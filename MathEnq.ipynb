{
 "cells": [
  {
   "cell_type": "code",
   "execution_count": 29,
   "metadata": {},
   "outputs": [],
   "source": [
    "import numpy as np\n",
    "import matplotlib as mpl\n",
    "import matplotlib.pyplot as plt\n",
    "import pandas as pd\n",
    "import seaborn as sns\n",
    "import re\n",
    "\n",
    "%matplotlib inline\n",
    "# setting japanes font\n",
    "font = {'family': 'IPAexGothic'}\n",
    "plt.rc('font', **font)\n",
    "plt.rcParams[\"figure.figsize\"] = (20, 5)"
   ]
  },
  {
   "cell_type": "markdown",
   "metadata": {},
   "source": [
    "## Read data"
   ]
  },
  {
   "cell_type": "code",
   "execution_count": 2,
   "metadata": {},
   "outputs": [
    {
     "data": {
      "text/html": [
       "<div>\n",
       "<style scoped>\n",
       "    .dataframe tbody tr th:only-of-type {\n",
       "        vertical-align: middle;\n",
       "    }\n",
       "\n",
       "    .dataframe tbody tr th {\n",
       "        vertical-align: top;\n",
       "    }\n",
       "\n",
       "    .dataframe thead th {\n",
       "        text-align: right;\n",
       "    }\n",
       "</style>\n",
       "<table border=\"1\" class=\"dataframe\">\n",
       "  <thead>\n",
       "    <tr style=\"text-align: right;\">\n",
       "      <th></th>\n",
       "      <th>タイムスタンプ</th>\n",
       "      <th>１．性別</th>\n",
       "      <th>２．ご年齢</th>\n",
       "      <th>２．ご職業</th>\n",
       "      <th>３．現在、数学・算数について触れる機会はありますか。</th>\n",
       "      <th>４．「３」について。具体的に触れるのはどういった機会の時ですか。</th>\n",
       "      <th>５．数学・算数は好きですか。</th>\n",
       "      <th>６．「５」で「かなり好き、まあまあ好き」と答えた方へ。数学・算数を好きになった時期はいつですか。</th>\n",
       "      <th>７．「５」で「まあまあ嫌い、かなり嫌い」と答えた方へ。数学・算数を嫌いになった時期はいつですか。</th>\n",
       "      <th>８．何をきっかけに数学・算数を好きに（嫌い）なりましたか。</th>\n",
       "      <th>９．好き（嫌い）になったきっかけについて、より具体的にお聞かせください</th>\n",
       "      <th>１０．数学・算数についての本を、今までに何冊くらい読んだ事がありますか。</th>\n",
       "      <th>１１．もし、自分のレベルに合わせて数学・算数について学ぶ機会を持てるのなら、再び学びたいと思いますか。</th>\n",
       "      <th>１２．「１１」で「かなり思う」「まあまあ思う」「あまり思わない」と答えた方へ。具体的にどの程度学びたいと思いますか。</th>\n",
       "      <th>１３．自分の子どもに、数学・算数を好きになってもらいたいと思いますか。</th>\n",
       "      <th>１４．数学で、一番楽しいと思える分野は何ですか。</th>\n",
       "      <th>１５．数学で、一番苦手な分野は何ですか。</th>\n",
       "      <th>１６．主に、どのような方法で数学を勉強していましたか。</th>\n",
       "    </tr>\n",
       "  </thead>\n",
       "  <tbody>\n",
       "    <tr>\n",
       "      <th>0</th>\n",
       "      <td>5/16/2019 12:35:31</td>\n",
       "      <td>女性</td>\n",
       "      <td>30歳～34歳</td>\n",
       "      <td>アルバイト・パート</td>\n",
       "      <td>あまり無い方だ</td>\n",
       "      <td>独学で数学の本を読むくらい</td>\n",
       "      <td>まあまあ好き</td>\n",
       "      <td>社会人になってから</td>\n",
       "      <td>NaN</td>\n",
       "      <td>本や番組などがきっかけ</td>\n",
       "      <td>NaN</td>\n",
       "      <td>６～１０冊</td>\n",
       "      <td>かなり思う</td>\n",
       "      <td>週１回２時間以上</td>\n",
       "      <td>かなり思う</td>\n",
       "      <td>三角比・三角関数</td>\n",
       "      <td>計算問題</td>\n",
       "      <td>人から個別に聞いて</td>\n",
       "    </tr>\n",
       "    <tr>\n",
       "      <th>1</th>\n",
       "      <td>5/16/2019 12:38:02</td>\n",
       "      <td>男性</td>\n",
       "      <td>20歳～24歳</td>\n",
       "      <td>社会人</td>\n",
       "      <td>かなりある方だ</td>\n",
       "      <td>数学系イベント</td>\n",
       "      <td>かなり好き</td>\n",
       "      <td>小学校入学以前から</td>\n",
       "      <td>NaN</td>\n",
       "      <td>物心がついたときから・気が付いたら</td>\n",
       "      <td>NaN</td>\n",
       "      <td>１１冊～２０冊</td>\n",
       "      <td>かなり思う</td>\n",
       "      <td>隔週１回２時間程度～週１回２時間程度</td>\n",
       "      <td>かなり思う</td>\n",
       "      <td>整数</td>\n",
       "      <td>平面幾何</td>\n",
       "      <td>数学の本（教科書、参考書を除く）を読んで</td>\n",
       "    </tr>\n",
       "    <tr>\n",
       "      <th>2</th>\n",
       "      <td>5/16/2019 12:38:11</td>\n",
       "      <td>男性</td>\n",
       "      <td>20歳～24歳</td>\n",
       "      <td>大学・短大・専門学生</td>\n",
       "      <td>かなりある方だ</td>\n",
       "      <td>math channelで</td>\n",
       "      <td>かなり好き</td>\n",
       "      <td>小学校時代の算数の時から</td>\n",
       "      <td>NaN</td>\n",
       "      <td>物心がついたときから・気が付いたら</td>\n",
       "      <td>物心ついた時から</td>\n",
       "      <td>６～１０冊</td>\n",
       "      <td>かなり思う</td>\n",
       "      <td>NaN</td>\n",
       "      <td>かなり思う</td>\n",
       "      <td>自分で疑問に思った事を考える時、分野は関係ない</td>\n",
       "      <td>数Ⅲ</td>\n",
       "      <td>特にない</td>\n",
       "    </tr>\n",
       "    <tr>\n",
       "      <th>3</th>\n",
       "      <td>5/16/2019 12:38:22</td>\n",
       "      <td>女性</td>\n",
       "      <td>25歳～29歳</td>\n",
       "      <td>アルバイト・パート</td>\n",
       "      <td>ほとんど無い、まったく無い</td>\n",
       "      <td>NaN</td>\n",
       "      <td>まあまあ嫌い</td>\n",
       "      <td>NaN</td>\n",
       "      <td>高校生後半</td>\n",
       "      <td>学校の授業がきっかけ</td>\n",
       "      <td>NaN</td>\n",
       "      <td>０冊</td>\n",
       "      <td>まあまあ思う</td>\n",
       "      <td>隔週１回２時間程度～週１回２時間程度</td>\n",
       "      <td>まあまあ思う</td>\n",
       "      <td>方程式・不等式</td>\n",
       "      <td>微分・積分</td>\n",
       "      <td>授業を聞いて, 問題集を解いて</td>\n",
       "    </tr>\n",
       "    <tr>\n",
       "      <th>4</th>\n",
       "      <td>5/16/2019 12:40:34</td>\n",
       "      <td>女性</td>\n",
       "      <td>15歳～19歳</td>\n",
       "      <td>高校生</td>\n",
       "      <td>かなりある方だ</td>\n",
       "      <td>学校の授業や塾だけでなく、1日1問以上は解くようにしている</td>\n",
       "      <td>かなり好き</td>\n",
       "      <td>高校生前半</td>\n",
       "      <td>NaN</td>\n",
       "      <td>学校の先生がきっかけ</td>\n",
       "      <td>高校の数学の先生が好きだから</td>\n",
       "      <td>１１冊～２０冊</td>\n",
       "      <td>かなり思う</td>\n",
       "      <td>週１回２時間以上</td>\n",
       "      <td>かなり思う</td>\n",
       "      <td>特にない</td>\n",
       "      <td>特にない</td>\n",
       "      <td>授業を聞いて, 問題集を解いて, 数学の本（教科書、参考書を除く）を読んで, 人から個別に聞いて</td>\n",
       "    </tr>\n",
       "  </tbody>\n",
       "</table>\n",
       "</div>"
      ],
      "text/plain": [
       "              タイムスタンプ １．性別    ２．ご年齢       ２．ご職業 ３．現在、数学・算数について触れる機会はありますか。  \\\n",
       "0  5/16/2019 12:35:31   女性  30歳～34歳   アルバイト・パート                    あまり無い方だ   \n",
       "1  5/16/2019 12:38:02   男性  20歳～24歳         社会人                    かなりある方だ   \n",
       "2  5/16/2019 12:38:11   男性  20歳～24歳  大学・短大・専門学生                    かなりある方だ   \n",
       "3  5/16/2019 12:38:22   女性  25歳～29歳   アルバイト・パート              ほとんど無い、まったく無い   \n",
       "4  5/16/2019 12:40:34   女性  15歳～19歳         高校生                    かなりある方だ   \n",
       "\n",
       "  ４．「３」について。具体的に触れるのはどういった機会の時ですか。 ５．数学・算数は好きですか。  \\\n",
       "0                    独学で数学の本を読むくらい         まあまあ好き   \n",
       "1                          数学系イベント          かなり好き   \n",
       "2                    math channelで          かなり好き   \n",
       "3                              NaN         まあまあ嫌い   \n",
       "4    学校の授業や塾だけでなく、1日1問以上は解くようにしている          かなり好き   \n",
       "\n",
       "  ６．「５」で「かなり好き、まあまあ好き」と答えた方へ。数学・算数を好きになった時期はいつですか。  \\\n",
       "0                                        社会人になってから   \n",
       "1                                        小学校入学以前から   \n",
       "2                                     小学校時代の算数の時から   \n",
       "3                                              NaN   \n",
       "4                                            高校生前半   \n",
       "\n",
       "  ７．「５」で「まあまあ嫌い、かなり嫌い」と答えた方へ。数学・算数を嫌いになった時期はいつですか。  \\\n",
       "0                                              NaN   \n",
       "1                                              NaN   \n",
       "2                                              NaN   \n",
       "3                                            高校生後半   \n",
       "4                                              NaN   \n",
       "\n",
       "  ８．何をきっかけに数学・算数を好きに（嫌い）なりましたか。 ９．好き（嫌い）になったきっかけについて、より具体的にお聞かせください  \\\n",
       "0                   本や番組などがきっかけ                                 NaN   \n",
       "1             物心がついたときから・気が付いたら                                 NaN   \n",
       "2             物心がついたときから・気が付いたら                            物心ついた時から   \n",
       "3                    学校の授業がきっかけ                                 NaN   \n",
       "4                    学校の先生がきっかけ                      高校の数学の先生が好きだから   \n",
       "\n",
       "  １０．数学・算数についての本を、今までに何冊くらい読んだ事がありますか。  \\\n",
       "0                                ６～１０冊   \n",
       "1                              １１冊～２０冊   \n",
       "2                                ６～１０冊   \n",
       "3                                   ０冊   \n",
       "4                              １１冊～２０冊   \n",
       "\n",
       "  １１．もし、自分のレベルに合わせて数学・算数について学ぶ機会を持てるのなら、再び学びたいと思いますか。  \\\n",
       "0                                              かなり思う    \n",
       "1                                              かなり思う    \n",
       "2                                              かなり思う    \n",
       "3                                             まあまあ思う    \n",
       "4                                              かなり思う    \n",
       "\n",
       "  １２．「１１」で「かなり思う」「まあまあ思う」「あまり思わない」と答えた方へ。具体的にどの程度学びたいと思いますか。  \\\n",
       "0                                           週１回２時間以上           \n",
       "1                                 隔週１回２時間程度～週１回２時間程度           \n",
       "2                                                NaN           \n",
       "3                                 隔週１回２時間程度～週１回２時間程度           \n",
       "4                                           週１回２時間以上           \n",
       "\n",
       "  １３．自分の子どもに、数学・算数を好きになってもらいたいと思いますか。 １４．数学で、一番楽しいと思える分野は何ですか。  \\\n",
       "0                               かなり思う                 三角比・三角関数   \n",
       "1                               かなり思う                       整数   \n",
       "2                               かなり思う  自分で疑問に思った事を考える時、分野は関係ない   \n",
       "3                              まあまあ思う                  方程式・不等式   \n",
       "4                               かなり思う                     特にない   \n",
       "\n",
       "  １５．数学で、一番苦手な分野は何ですか。                       １６．主に、どのような方法で数学を勉強していましたか。  \n",
       "0                 計算問題                                         人から個別に聞いて  \n",
       "1                 平面幾何                              数学の本（教科書、参考書を除く）を読んで  \n",
       "2                   数Ⅲ                                              特にない  \n",
       "3                微分・積分                                   授業を聞いて, 問題集を解いて  \n",
       "4                 特にない  授業を聞いて, 問題集を解いて, 数学の本（教科書、参考書を除く）を読んで, 人から個別に聞いて  "
      ]
     },
     "execution_count": 2,
     "metadata": {},
     "output_type": "execute_result"
    }
   ],
   "source": [
    "df = pd.read_csv('mathEnquete.csv')\n",
    "df.head()"
   ]
  },
  {
   "cell_type": "markdown",
   "metadata": {},
   "source": [
    "カラム名まで日本語なのは流石に扱いにくいので、カラム名を置き換える。"
   ]
  },
  {
   "cell_type": "code",
   "execution_count": 3,
   "metadata": {
    "scrolled": true
   },
   "outputs": [
    {
     "name": "stdout",
     "output_type": "stream",
     "text": [
      "time stamp                          タイムスタンプ\n",
      "sex                                 １．性別\n",
      "age                                 ２．ご年齢\n",
      "profession                          ２．ご職業\n",
      "opportunity                         ３．現在、数学・算数について触れる機会はありますか。\n",
      "what kind of occasion               ４．「３」について。具体的に触れるのはどういった機会の時ですか。\n",
      "like                                ５．数学・算数は好きですか。\n",
      "when did you like                   ６．「５」で「かなり好き、まあまあ好き」と答えた方へ。数学・算数を好きになった時期はいつですか。\n",
      "when do you dislike                 ７．「５」で「まあまあ嫌い、かなり嫌い」と答えた方へ。数学・算数を嫌いになった時期はいつですか。\n",
      "what started you like or dislike    ８．何をきっかけに数学・算数を好きに（嫌い）なりましたか。\n",
      "how you became fond or dislike      ９．好き（嫌い）になったきっかけについて、より具体的にお聞かせください\n",
      "read books count                    １０．数学・算数についての本を、今までに何冊くらい読んだ事がありますか。\n",
      "learn again                         １１．もし、自分のレベルに合わせて数学・算数について学ぶ機会を持てるのなら、再び学びたいと思いますか。\n",
      "how much do you want to learn       １２．「１１」で「かなり思う」「まあまあ思う」「あまり思わない」と答えた方へ。具体的にどの程度学びたいと思いますか。\n",
      "your child like for Math            １３．自分の子どもに、数学・算数を好きになってもらいたいと思いますか。\n",
      "most fun                            １４．数学で、一番楽しいと思える分野は何ですか。\n",
      "most difficult                      １５．数学で、一番苦手な分野は何ですか。\n",
      "study                               １６．主に、どのような方法で数学を勉強していましたか。\n"
     ]
    }
   ],
   "source": [
    "en_cols = [\n",
    "    'time stamp',\n",
    "    'sex',\n",
    "    'age',\n",
    "    'profession',\n",
    "    'opportunity',\n",
    "    'what kind of occasion',\n",
    "    'like',\n",
    "    'when did you like',\n",
    "    'when do you dislike',\n",
    "    'what started you like or dislike',\n",
    "    'how you became fond or dislike',\n",
    "    'read books count',\n",
    "    'learn again',\n",
    "    'how much do you want to learn',\n",
    "    'your child like for Math',\n",
    "    'most fun',\n",
    "    'most difficult',\n",
    "    'study']\n",
    "\n",
    "for jp, en in zip(df.columns, en_cols):\n",
    "  print(\"{:<35} {}\".format(en, jp))\n",
    "df.columns = en_cols"
   ]
  },
  {
   "cell_type": "markdown",
   "metadata": {},
   "source": [
    "Add columns"
   ]
  },
  {
   "cell_type": "code",
   "execution_count": 4,
   "metadata": {},
   "outputs": [],
   "source": [
    "df['min_read_books_count'] = df['read books count'].replace(dict(np.stack([df['read books count'].unique(),\n",
    "                                                     np.array([6,11,0,3,31,1,21])], 1)))\n",
    "\n",
    "d = [(i, int(re.sub(r'\\D', '', i))) if len(re.sub(r'\\D', '', i))==2 else (i, int(re.sub(r'\\D', '', i)[:2])) for i in df.age.unique()]\n",
    "df['age_int'] = df['age'].replace(dict(d))\n",
    "\n",
    "df['age_div_read_books_count'] = df['age_int'] / df['min_read_books_count']\n",
    "df['age_div_read_books_count'] = df['age_div_read_books_count'].replace(np.inf, np.nan)\n",
    "\n",
    "df['like_num'] = df.loc[:,['like']]\n",
    "\n",
    "df['like_num'] = df['like_num'].replace('かなり好き', 4)\n",
    "df['like_num'] = df['like_num'].replace('まあまあ好き', 3)\n",
    "df['like_num'] = df['like_num'].replace('まあまあ嫌い', 2)\n",
    "df['like_num'] = df['like_num'].replace('かなり嫌い', 1)"
   ]
  },
  {
   "cell_type": "code",
   "execution_count": 5,
   "metadata": {},
   "outputs": [],
   "source": [
    "t = ['小学校入学以前から','小学校時代の算数の時から','中学生前半', '中学生後半',\n",
    "     '高校生前半', '高校生後半','高校卒業後の進学先で（大学・専門学校など）','社会人になってから']\n",
    "dict([(i, '{}_{}'.format(e, i)) for e,i in enumerate(t)])\n",
    "df['when did you like'] = df['when did you like'].replace(dict([(i, '{}_{}'.format(e, i)) for e,i in enumerate(t)]))\n",
    "df['when do you dislike'] = df['when do you dislike'].replace(dict([(i, '{}_{}'.format(e, i)) for e,i in enumerate(t)]))"
   ]
  },
  {
   "cell_type": "code",
   "execution_count": 6,
   "metadata": {},
   "outputs": [],
   "source": [
    "df['profession'] = df['profession'].replace('高等専門学校生', '大学・短大・専門学生')\n",
    "df['profession'] = df['profession'].replace({'ニート': '無職', \n",
    "                                             '浪人': '無職', \n",
    "                                             '浪人生': '無職',\n",
    "                                             '退職後無職': '無職'})\n",
    "df['profession'] = df['profession'].replace({'個人事業主': '社会人', \n",
    "                                             'フリーランス': '社会人',\n",
    "                                             '自営業': '社会人', \n",
    "                                             'ポスドク': '社会人',})"
   ]
  },
  {
   "cell_type": "code",
   "execution_count": 7,
   "metadata": {},
   "outputs": [],
   "source": [
    "age_order = ['～14歳','15歳～19歳','20歳～24歳','25歳～29歳',\n",
    "            '30歳～34歳','35歳～39歳','40歳～44歳','45歳～49歳',\n",
    "            '50歳～54歳','55歳～59歳','60歳～']\n",
    "age_int_order = ['0～14','15～19','20～24','25～29',\n",
    "                '30～34','35～39','40～44','45～49',\n",
    "                '50～54','55～59','60～99']\n",
    "like_order = ['かなり好き', 'まあまあ好き', 'まあまあ嫌い', 'かなり嫌い']\n",
    "book_order = ['０冊', '１、２冊', '３～５冊', '６～１０冊', '１１冊～２０冊','２１冊～３０冊', '３１冊～']\n",
    "units = set(np.hstack([df['most fun'].value_counts()[df['most fun'].value_counts().values>5].index,\n",
    "                df['most difficult'].value_counts()[df['most difficult'].value_counts().values>5].index]))\n",
    "units.remove('特にない')"
   ]
  },
  {
   "cell_type": "code",
   "execution_count": 8,
   "metadata": {},
   "outputs": [
    {
     "data": {
      "text/html": [
       "<div>\n",
       "<style scoped>\n",
       "    .dataframe tbody tr th:only-of-type {\n",
       "        vertical-align: middle;\n",
       "    }\n",
       "\n",
       "    .dataframe tbody tr th {\n",
       "        vertical-align: top;\n",
       "    }\n",
       "\n",
       "    .dataframe thead th {\n",
       "        text-align: right;\n",
       "    }\n",
       "</style>\n",
       "<table border=\"1\" class=\"dataframe\">\n",
       "  <thead>\n",
       "    <tr style=\"text-align: right;\">\n",
       "      <th></th>\n",
       "      <th>time stamp</th>\n",
       "      <th>sex</th>\n",
       "      <th>age</th>\n",
       "      <th>profession</th>\n",
       "      <th>opportunity</th>\n",
       "      <th>what kind of occasion</th>\n",
       "      <th>like</th>\n",
       "      <th>when did you like</th>\n",
       "      <th>when do you dislike</th>\n",
       "      <th>what started you like or dislike</th>\n",
       "      <th>...</th>\n",
       "      <th>learn again</th>\n",
       "      <th>how much do you want to learn</th>\n",
       "      <th>your child like for Math</th>\n",
       "      <th>most fun</th>\n",
       "      <th>most difficult</th>\n",
       "      <th>study</th>\n",
       "      <th>min_read_books_count</th>\n",
       "      <th>age_int</th>\n",
       "      <th>age_div_read_books_count</th>\n",
       "      <th>like_num</th>\n",
       "    </tr>\n",
       "  </thead>\n",
       "  <tbody>\n",
       "    <tr>\n",
       "      <th>0</th>\n",
       "      <td>5/16/2019 12:35:31</td>\n",
       "      <td>女性</td>\n",
       "      <td>30歳～34歳</td>\n",
       "      <td>アルバイト・パート</td>\n",
       "      <td>あまり無い方だ</td>\n",
       "      <td>独学で数学の本を読むくらい</td>\n",
       "      <td>まあまあ好き</td>\n",
       "      <td>7_社会人になってから</td>\n",
       "      <td>NaN</td>\n",
       "      <td>本や番組などがきっかけ</td>\n",
       "      <td>...</td>\n",
       "      <td>かなり思う</td>\n",
       "      <td>週１回２時間以上</td>\n",
       "      <td>かなり思う</td>\n",
       "      <td>三角比・三角関数</td>\n",
       "      <td>計算問題</td>\n",
       "      <td>人から個別に聞いて</td>\n",
       "      <td>6</td>\n",
       "      <td>30</td>\n",
       "      <td>5.000000</td>\n",
       "      <td>3</td>\n",
       "    </tr>\n",
       "    <tr>\n",
       "      <th>1</th>\n",
       "      <td>5/16/2019 12:38:02</td>\n",
       "      <td>男性</td>\n",
       "      <td>20歳～24歳</td>\n",
       "      <td>社会人</td>\n",
       "      <td>かなりある方だ</td>\n",
       "      <td>数学系イベント</td>\n",
       "      <td>かなり好き</td>\n",
       "      <td>0_小学校入学以前から</td>\n",
       "      <td>NaN</td>\n",
       "      <td>物心がついたときから・気が付いたら</td>\n",
       "      <td>...</td>\n",
       "      <td>かなり思う</td>\n",
       "      <td>隔週１回２時間程度～週１回２時間程度</td>\n",
       "      <td>かなり思う</td>\n",
       "      <td>整数</td>\n",
       "      <td>平面幾何</td>\n",
       "      <td>数学の本（教科書、参考書を除く）を読んで</td>\n",
       "      <td>11</td>\n",
       "      <td>20</td>\n",
       "      <td>1.818182</td>\n",
       "      <td>4</td>\n",
       "    </tr>\n",
       "    <tr>\n",
       "      <th>2</th>\n",
       "      <td>5/16/2019 12:38:11</td>\n",
       "      <td>男性</td>\n",
       "      <td>20歳～24歳</td>\n",
       "      <td>大学・短大・専門学生</td>\n",
       "      <td>かなりある方だ</td>\n",
       "      <td>math channelで</td>\n",
       "      <td>かなり好き</td>\n",
       "      <td>1_小学校時代の算数の時から</td>\n",
       "      <td>NaN</td>\n",
       "      <td>物心がついたときから・気が付いたら</td>\n",
       "      <td>...</td>\n",
       "      <td>かなり思う</td>\n",
       "      <td>NaN</td>\n",
       "      <td>かなり思う</td>\n",
       "      <td>自分で疑問に思った事を考える時、分野は関係ない</td>\n",
       "      <td>数Ⅲ</td>\n",
       "      <td>特にない</td>\n",
       "      <td>6</td>\n",
       "      <td>20</td>\n",
       "      <td>3.333333</td>\n",
       "      <td>4</td>\n",
       "    </tr>\n",
       "    <tr>\n",
       "      <th>3</th>\n",
       "      <td>5/16/2019 12:38:22</td>\n",
       "      <td>女性</td>\n",
       "      <td>25歳～29歳</td>\n",
       "      <td>アルバイト・パート</td>\n",
       "      <td>ほとんど無い、まったく無い</td>\n",
       "      <td>NaN</td>\n",
       "      <td>まあまあ嫌い</td>\n",
       "      <td>NaN</td>\n",
       "      <td>5_高校生後半</td>\n",
       "      <td>学校の授業がきっかけ</td>\n",
       "      <td>...</td>\n",
       "      <td>まあまあ思う</td>\n",
       "      <td>隔週１回２時間程度～週１回２時間程度</td>\n",
       "      <td>まあまあ思う</td>\n",
       "      <td>方程式・不等式</td>\n",
       "      <td>微分・積分</td>\n",
       "      <td>授業を聞いて, 問題集を解いて</td>\n",
       "      <td>0</td>\n",
       "      <td>25</td>\n",
       "      <td>NaN</td>\n",
       "      <td>2</td>\n",
       "    </tr>\n",
       "    <tr>\n",
       "      <th>4</th>\n",
       "      <td>5/16/2019 12:40:34</td>\n",
       "      <td>女性</td>\n",
       "      <td>15歳～19歳</td>\n",
       "      <td>高校生</td>\n",
       "      <td>かなりある方だ</td>\n",
       "      <td>学校の授業や塾だけでなく、1日1問以上は解くようにしている</td>\n",
       "      <td>かなり好き</td>\n",
       "      <td>4_高校生前半</td>\n",
       "      <td>NaN</td>\n",
       "      <td>学校の先生がきっかけ</td>\n",
       "      <td>...</td>\n",
       "      <td>かなり思う</td>\n",
       "      <td>週１回２時間以上</td>\n",
       "      <td>かなり思う</td>\n",
       "      <td>特にない</td>\n",
       "      <td>特にない</td>\n",
       "      <td>授業を聞いて, 問題集を解いて, 数学の本（教科書、参考書を除く）を読んで, 人から個別に聞いて</td>\n",
       "      <td>11</td>\n",
       "      <td>15</td>\n",
       "      <td>1.363636</td>\n",
       "      <td>4</td>\n",
       "    </tr>\n",
       "  </tbody>\n",
       "</table>\n",
       "<p>5 rows × 22 columns</p>\n",
       "</div>"
      ],
      "text/plain": [
       "           time stamp sex      age  profession    opportunity  \\\n",
       "0  5/16/2019 12:35:31  女性  30歳～34歳   アルバイト・パート        あまり無い方だ   \n",
       "1  5/16/2019 12:38:02  男性  20歳～24歳         社会人        かなりある方だ   \n",
       "2  5/16/2019 12:38:11  男性  20歳～24歳  大学・短大・専門学生        かなりある方だ   \n",
       "3  5/16/2019 12:38:22  女性  25歳～29歳   アルバイト・パート  ほとんど無い、まったく無い   \n",
       "4  5/16/2019 12:40:34  女性  15歳～19歳         高校生        かなりある方だ   \n",
       "\n",
       "           what kind of occasion    like when did you like  \\\n",
       "0                  独学で数学の本を読むくらい  まあまあ好き       7_社会人になってから   \n",
       "1                        数学系イベント   かなり好き       0_小学校入学以前から   \n",
       "2                  math channelで   かなり好き    1_小学校時代の算数の時から   \n",
       "3                            NaN  まあまあ嫌い               NaN   \n",
       "4  学校の授業や塾だけでなく、1日1問以上は解くようにしている   かなり好き           4_高校生前半   \n",
       "\n",
       "  when do you dislike what started you like or dislike    ...    learn again  \\\n",
       "0                 NaN                      本や番組などがきっかけ    ...          かなり思う   \n",
       "1                 NaN                物心がついたときから・気が付いたら    ...          かなり思う   \n",
       "2                 NaN                物心がついたときから・気が付いたら    ...          かなり思う   \n",
       "3             5_高校生後半                       学校の授業がきっかけ    ...         まあまあ思う   \n",
       "4                 NaN                       学校の先生がきっかけ    ...          かなり思う   \n",
       "\n",
       "  how much do you want to learn your child like for Math  \\\n",
       "0                      週１回２時間以上                    かなり思う   \n",
       "1            隔週１回２時間程度～週１回２時間程度                    かなり思う   \n",
       "2                           NaN                    かなり思う   \n",
       "3            隔週１回２時間程度～週１回２時間程度                   まあまあ思う   \n",
       "4                      週１回２時間以上                    かなり思う   \n",
       "\n",
       "                  most fun most difficult  \\\n",
       "0                 三角比・三角関数           計算問題   \n",
       "1                       整数           平面幾何   \n",
       "2  自分で疑問に思った事を考える時、分野は関係ない             数Ⅲ   \n",
       "3                  方程式・不等式          微分・積分   \n",
       "4                     特にない           特にない   \n",
       "\n",
       "                                              study min_read_books_count  \\\n",
       "0                                         人から個別に聞いて                    6   \n",
       "1                              数学の本（教科書、参考書を除く）を読んで                   11   \n",
       "2                                              特にない                    6   \n",
       "3                                   授業を聞いて, 問題集を解いて                    0   \n",
       "4  授業を聞いて, 問題集を解いて, 数学の本（教科書、参考書を除く）を読んで, 人から個別に聞いて                   11   \n",
       "\n",
       "  age_int  age_div_read_books_count  like_num  \n",
       "0      30                  5.000000         3  \n",
       "1      20                  1.818182         4  \n",
       "2      20                  3.333333         4  \n",
       "3      25                       NaN         2  \n",
       "4      15                  1.363636         4  \n",
       "\n",
       "[5 rows x 22 columns]"
      ]
     },
     "execution_count": 8,
     "metadata": {},
     "output_type": "execute_result"
    }
   ],
   "source": [
    "df.head()"
   ]
  },
  {
   "cell_type": "code",
   "execution_count": 9,
   "metadata": {},
   "outputs": [
    {
     "name": "stdout",
     "output_type": "stream",
     "text": [
      "  sumple cnt: 415 \n",
      "question cnt:  21\n"
     ]
    }
   ],
   "source": [
    "print('{:>13}{:4} \\nquestion cnt:{:4}'.format('sumple cnt:',df.shape[0], df.shape[1]-1))"
   ]
  },
  {
   "cell_type": "code",
   "execution_count": 10,
   "metadata": {},
   "outputs": [
    {
     "name": "stdout",
     "output_type": "stream",
     "text": [
      "Missing value\n"
     ]
    },
    {
     "data": {
      "text/plain": [
       "time stamp                            0\n",
       "sex                                   0\n",
       "age                                   0\n",
       "profession                            0\n",
       "opportunity                           0\n",
       "what kind of occasion               102\n",
       "like                                  0\n",
       "when did you like                    80\n",
       "when do you dislike                 326\n",
       "what started you like or dislike      0\n",
       "how you became fond or dislike      206\n",
       "read books count                      0\n",
       "learn again                           0\n",
       "how much do you want to learn        28\n",
       "your child like for Math              0\n",
       "most fun                              0\n",
       "most difficult                        0\n",
       "study                                 0\n",
       "min_read_books_count                  0\n",
       "age_int                               0\n",
       "age_div_read_books_count             89\n",
       "like_num                              0\n",
       "dtype: int64"
      ]
     },
     "execution_count": 10,
     "metadata": {},
     "output_type": "execute_result"
    }
   ],
   "source": [
    "print('Missing value')\n",
    "df.isnull().sum()"
   ]
  },
  {
   "cell_type": "code",
   "execution_count": 11,
   "metadata": {},
   "outputs": [
    {
     "data": {
      "text/html": [
       "<div>\n",
       "<style scoped>\n",
       "    .dataframe tbody tr th:only-of-type {\n",
       "        vertical-align: middle;\n",
       "    }\n",
       "\n",
       "    .dataframe tbody tr th {\n",
       "        vertical-align: top;\n",
       "    }\n",
       "\n",
       "    .dataframe thead th {\n",
       "        text-align: right;\n",
       "    }\n",
       "</style>\n",
       "<table border=\"1\" class=\"dataframe\">\n",
       "  <thead>\n",
       "    <tr style=\"text-align: right;\">\n",
       "      <th></th>\n",
       "      <th>min_read_books_count</th>\n",
       "      <th>age_int</th>\n",
       "      <th>age_div_read_books_count</th>\n",
       "      <th>like_num</th>\n",
       "    </tr>\n",
       "  </thead>\n",
       "  <tbody>\n",
       "    <tr>\n",
       "      <th>count</th>\n",
       "      <td>415.000000</td>\n",
       "      <td>415.000000</td>\n",
       "      <td>326.000000</td>\n",
       "      <td>415.000000</td>\n",
       "    </tr>\n",
       "    <tr>\n",
       "      <th>mean</th>\n",
       "      <td>5.891566</td>\n",
       "      <td>26.392771</td>\n",
       "      <td>10.888571</td>\n",
       "      <td>3.113253</td>\n",
       "    </tr>\n",
       "    <tr>\n",
       "      <th>std</th>\n",
       "      <td>8.763137</td>\n",
       "      <td>11.010204</td>\n",
       "      <td>11.296935</td>\n",
       "      <td>0.886938</td>\n",
       "    </tr>\n",
       "    <tr>\n",
       "      <th>min</th>\n",
       "      <td>0.000000</td>\n",
       "      <td>14.000000</td>\n",
       "      <td>0.451613</td>\n",
       "      <td>1.000000</td>\n",
       "    </tr>\n",
       "    <tr>\n",
       "      <th>25%</th>\n",
       "      <td>1.000000</td>\n",
       "      <td>20.000000</td>\n",
       "      <td>2.500000</td>\n",
       "      <td>3.000000</td>\n",
       "    </tr>\n",
       "    <tr>\n",
       "      <th>50%</th>\n",
       "      <td>3.000000</td>\n",
       "      <td>25.000000</td>\n",
       "      <td>6.666667</td>\n",
       "      <td>3.000000</td>\n",
       "    </tr>\n",
       "    <tr>\n",
       "      <th>75%</th>\n",
       "      <td>6.000000</td>\n",
       "      <td>35.000000</td>\n",
       "      <td>15.000000</td>\n",
       "      <td>4.000000</td>\n",
       "    </tr>\n",
       "    <tr>\n",
       "      <th>max</th>\n",
       "      <td>31.000000</td>\n",
       "      <td>60.000000</td>\n",
       "      <td>55.000000</td>\n",
       "      <td>4.000000</td>\n",
       "    </tr>\n",
       "  </tbody>\n",
       "</table>\n",
       "</div>"
      ],
      "text/plain": [
       "       min_read_books_count     age_int  age_div_read_books_count    like_num\n",
       "count            415.000000  415.000000                326.000000  415.000000\n",
       "mean               5.891566   26.392771                 10.888571    3.113253\n",
       "std                8.763137   11.010204                 11.296935    0.886938\n",
       "min                0.000000   14.000000                  0.451613    1.000000\n",
       "25%                1.000000   20.000000                  2.500000    3.000000\n",
       "50%                3.000000   25.000000                  6.666667    3.000000\n",
       "75%                6.000000   35.000000                 15.000000    4.000000\n",
       "max               31.000000   60.000000                 55.000000    4.000000"
      ]
     },
     "metadata": {},
     "output_type": "display_data"
    },
    {
     "data": {
      "text/html": [
       "<div>\n",
       "<style scoped>\n",
       "    .dataframe tbody tr th:only-of-type {\n",
       "        vertical-align: middle;\n",
       "    }\n",
       "\n",
       "    .dataframe tbody tr th {\n",
       "        vertical-align: top;\n",
       "    }\n",
       "\n",
       "    .dataframe thead th {\n",
       "        text-align: right;\n",
       "    }\n",
       "</style>\n",
       "<table border=\"1\" class=\"dataframe\">\n",
       "  <thead>\n",
       "    <tr style=\"text-align: right;\">\n",
       "      <th></th>\n",
       "      <th>time stamp</th>\n",
       "      <th>sex</th>\n",
       "      <th>age</th>\n",
       "      <th>profession</th>\n",
       "      <th>opportunity</th>\n",
       "      <th>what kind of occasion</th>\n",
       "      <th>like</th>\n",
       "      <th>when did you like</th>\n",
       "      <th>when do you dislike</th>\n",
       "      <th>what started you like or dislike</th>\n",
       "      <th>how you became fond or dislike</th>\n",
       "      <th>read books count</th>\n",
       "      <th>learn again</th>\n",
       "      <th>how much do you want to learn</th>\n",
       "      <th>your child like for Math</th>\n",
       "      <th>most fun</th>\n",
       "      <th>most difficult</th>\n",
       "      <th>study</th>\n",
       "    </tr>\n",
       "  </thead>\n",
       "  <tbody>\n",
       "    <tr>\n",
       "      <th>count</th>\n",
       "      <td>415</td>\n",
       "      <td>415</td>\n",
       "      <td>415</td>\n",
       "      <td>415</td>\n",
       "      <td>415</td>\n",
       "      <td>313</td>\n",
       "      <td>415</td>\n",
       "      <td>335</td>\n",
       "      <td>89</td>\n",
       "      <td>415</td>\n",
       "      <td>209</td>\n",
       "      <td>415</td>\n",
       "      <td>415</td>\n",
       "      <td>387</td>\n",
       "      <td>415</td>\n",
       "      <td>415</td>\n",
       "      <td>415</td>\n",
       "      <td>415</td>\n",
       "    </tr>\n",
       "    <tr>\n",
       "      <th>unique</th>\n",
       "      <td>415</td>\n",
       "      <td>3</td>\n",
       "      <td>11</td>\n",
       "      <td>8</td>\n",
       "      <td>4</td>\n",
       "      <td>263</td>\n",
       "      <td>4</td>\n",
       "      <td>8</td>\n",
       "      <td>8</td>\n",
       "      <td>33</td>\n",
       "      <td>209</td>\n",
       "      <td>7</td>\n",
       "      <td>4</td>\n",
       "      <td>4</td>\n",
       "      <td>4</td>\n",
       "      <td>39</td>\n",
       "      <td>39</td>\n",
       "      <td>37</td>\n",
       "    </tr>\n",
       "    <tr>\n",
       "      <th>top</th>\n",
       "      <td>5/17/2019 16:15:59</td>\n",
       "      <td>男性</td>\n",
       "      <td>20歳～24歳</td>\n",
       "      <td>社会人</td>\n",
       "      <td>かなりある方だ</td>\n",
       "      <td>授業</td>\n",
       "      <td>まあまあ好き</td>\n",
       "      <td>1_小学校時代の算数の時から</td>\n",
       "      <td>1_小学校時代の算数の時から</td>\n",
       "      <td>物心がついたときから・気が付いたら</td>\n",
       "      <td>国語と違ってはっきりと答えが出たとき</td>\n",
       "      <td>１、２冊</td>\n",
       "      <td>かなり思う</td>\n",
       "      <td>月１回２時間程度～隔週１回２時間程度</td>\n",
       "      <td>かなり思う</td>\n",
       "      <td>微分・積分</td>\n",
       "      <td>確率・組み合わせ</td>\n",
       "      <td>授業を聞いて, 問題集を解いて</td>\n",
       "    </tr>\n",
       "    <tr>\n",
       "      <th>freq</th>\n",
       "      <td>1</td>\n",
       "      <td>265</td>\n",
       "      <td>107</td>\n",
       "      <td>191</td>\n",
       "      <td>169</td>\n",
       "      <td>16</td>\n",
       "      <td>174</td>\n",
       "      <td>148</td>\n",
       "      <td>23</td>\n",
       "      <td>127</td>\n",
       "      <td>1</td>\n",
       "      <td>102</td>\n",
       "      <td>224</td>\n",
       "      <td>111</td>\n",
       "      <td>272</td>\n",
       "      <td>73</td>\n",
       "      <td>67</td>\n",
       "      <td>115</td>\n",
       "    </tr>\n",
       "  </tbody>\n",
       "</table>\n",
       "</div>"
      ],
      "text/plain": [
       "                time stamp  sex      age profession opportunity  \\\n",
       "count                  415  415      415        415         415   \n",
       "unique                 415    3       11          8           4   \n",
       "top     5/17/2019 16:15:59   男性  20歳～24歳        社会人     かなりある方だ   \n",
       "freq                     1  265      107        191         169   \n",
       "\n",
       "       what kind of occasion    like when did you like when do you dislike  \\\n",
       "count                    313     415               335                  89   \n",
       "unique                   263       4                 8                   8   \n",
       "top                       授業  まあまあ好き    1_小学校時代の算数の時から      1_小学校時代の算数の時から   \n",
       "freq                      16     174               148                  23   \n",
       "\n",
       "       what started you like or dislike how you became fond or dislike  \\\n",
       "count                               415                            209   \n",
       "unique                               33                            209   \n",
       "top                   物心がついたときから・気が付いたら             国語と違ってはっきりと答えが出たとき   \n",
       "freq                                127                              1   \n",
       "\n",
       "       read books count learn again how much do you want to learn  \\\n",
       "count               415         415                           387   \n",
       "unique                7           4                             4   \n",
       "top                １、２冊       かなり思う            月１回２時間程度～隔週１回２時間程度   \n",
       "freq                102         224                           111   \n",
       "\n",
       "       your child like for Math most fun most difficult            study  \n",
       "count                       415      415            415              415  \n",
       "unique                        4       39             39               37  \n",
       "top                       かなり思う    微分・積分       確率・組み合わせ  授業を聞いて, 問題集を解いて  \n",
       "freq                        272       73             67              115  "
      ]
     },
     "metadata": {},
     "output_type": "display_data"
    }
   ],
   "source": [
    "# statistics\n",
    "display(df.describe(include='number'))\n",
    "display(df.describe(exclude='number'))"
   ]
  },
  {
   "cell_type": "markdown",
   "metadata": {},
   "source": [
    "## Quick EDA"
   ]
  },
  {
   "cell_type": "code",
   "execution_count": 30,
   "metadata": {},
   "outputs": [
    {
     "data": {
      "text/plain": [
       "<matplotlib.axes._subplots.AxesSubplot at 0x1a262052b0>"
      ]
     },
     "execution_count": 30,
     "metadata": {},
     "output_type": "execute_result"
    },
    {
     "data": {
      "image/png": "[encoded data removed]",
      "text/plain": [
       "<Figure size 1440x360 with 1 Axes>"
      ]
     },
     "metadata": {
      "needs_background": "light"
     },
     "output_type": "display_data"
    }
   ],
   "source": [
    "plt.title('性別回答数')\n",
    "sns.countplot(x=\"sex\", data=df, order=['男性','女性','その他'])"
   ]
  },
  {
   "cell_type": "code",
   "execution_count": 31,
   "metadata": {},
   "outputs": [
    {
     "data": {
      "text/plain": [
       "<matplotlib.axes._subplots.AxesSubplot at 0x1a262bce48>"
      ]
     },
     "execution_count": 31,
     "metadata": {},
     "output_type": "execute_result"
    },
    {
     "data": {
      "image/png": "[encoded data removed]",
      "text/plain": [
       "<Figure size 1440x360 with 1 Axes>"
      ]
     },
     "metadata": {
      "needs_background": "light"
     },
     "output_type": "display_data"
    }
   ],
   "source": [
    "plt.title('年齢別回答数')\n",
    "sns.countplot(x=\"age\", data=df, order=['～14歳','15歳～19歳','20歳～24歳','25歳～29歳',\n",
    "                                       '30歳～34歳','35歳～39歳','40歳～44歳','45歳～49歳',\n",
    "                                       '50歳～54歳','55歳～59歳','60歳～'])"
   ]
  },
  {
   "cell_type": "code",
   "execution_count": 32,
   "metadata": {},
   "outputs": [
    {
     "data": {
      "text/plain": [
       "<matplotlib.axes._subplots.AxesSubplot at 0x1a266b45f8>"
      ]
     },
     "execution_count": 32,
     "metadata": {},
     "output_type": "execute_result"
    },
    {
     "data": {
      "image/png": "[encoded data removed]",
      "text/plain": [
       "<Figure size 1440x360 with 1 Axes>"
      ]
     },
     "metadata": {
      "needs_background": "light"
     },
     "output_type": "display_data"
    }
   ],
   "source": [
    "plt.title('年齢別性別回答数')\n",
    "sns.countplot(x=\"age\", hue=\"sex\", data=df, hue_order=['男性','女性','その他'],\n",
    "              order=['～14歳','15歳～19歳','20歳～24歳','25歳～29歳',\n",
    "                    '30歳～34歳','35歳～39歳','40歳～44歳','45歳～49歳',\n",
    "                    '50歳～54歳','55歳～59歳','60歳～'])"
   ]
  },
  {
   "cell_type": "code",
   "execution_count": 33,
   "metadata": {},
   "outputs": [
    {
     "data": {
      "text/plain": [
       "<matplotlib.axes._subplots.AxesSubplot at 0x1a266ab8d0>"
      ]
     },
     "execution_count": 33,
     "metadata": {},
     "output_type": "execute_result"
    },
    {
     "data": {
      "image/png": "[encoded data removed]",
      "text/plain": [
       "<Figure size 1440x360 with 1 Axes>"
      ]
     },
     "metadata": {
      "needs_background": "light"
     },
     "output_type": "display_data"
    }
   ],
   "source": [
    "plt.title('職種別回答数')\n",
    "sns.countplot(x=\"profession\", data=df)"
   ]
  },
  {
   "cell_type": "code",
   "execution_count": 34,
   "metadata": {},
   "outputs": [
    {
     "data": {
      "text/plain": [
       "<matplotlib.axes._subplots.AxesSubplot at 0x1a26ad00b8>"
      ]
     },
     "execution_count": 34,
     "metadata": {},
     "output_type": "execute_result"
    },
    {
     "data": {
      "image/png": "[encoded data removed]",
      "text/plain": [
       "<Figure size 1440x360 with 1 Axes>"
      ]
     },
     "metadata": {
      "needs_background": "light"
     },
     "output_type": "display_data"
    }
   ],
   "source": [
    "plt.title('職種別性別回答数')\n",
    "sns.countplot(x=\"profession\", hue=\"sex\", data=df, hue_order=['男性','女性','その他'])"
   ]
  },
  {
   "cell_type": "code",
   "execution_count": 35,
   "metadata": {},
   "outputs": [
    {
     "data": {
      "text/plain": [
       "<matplotlib.axes._subplots.AxesSubplot at 0x1a26ccdf60>"
      ]
     },
     "execution_count": 35,
     "metadata": {},
     "output_type": "execute_result"
    },
    {
     "data": {
      "image/png": "[encoded data removed]",
      "text/plain": [
       "<Figure size 1440x360 with 1 Axes>"
      ]
     },
     "metadata": {
      "needs_background": "light"
     },
     "output_type": "display_data"
    }
   ],
   "source": [
    "plt.title('５．数学・算数は好きですか')\n",
    "sns.countplot(x=\"like\", data=df, order=['かなり好き','まあまあ好き','まあまあ嫌い','かなり嫌い'])"
   ]
  },
  {
   "cell_type": "code",
   "execution_count": 36,
   "metadata": {},
   "outputs": [],
   "source": [
    "def cnt2per(df, conditions, col):\n",
    "    tmp = df[conditions][col].value_counts()\n",
    "    tmp = tmp.map(lambda x:x/tmp.sum())\n",
    "    return tmp"
   ]
  },
  {
   "cell_type": "code",
   "execution_count": 37,
   "metadata": {},
   "outputs": [
    {
     "name": "stdout",
     "output_type": "stream",
     "text": [
      "５．数学・算数は好きですか <性別>\n"
     ]
    },
    {
     "data": {
      "text/plain": [
       "<matplotlib.axes._subplots.AxesSubplot at 0x1a26ec95c0>"
      ]
     },
     "execution_count": 37,
     "metadata": {},
     "output_type": "execute_result"
    },
    {
     "data": {
      "image/png": "[encoded data removed]",
      "text/plain": [
       "<Figure size 1440x360 with 2 Axes>"
      ]
     },
     "metadata": {
      "needs_background": "light"
     },
     "output_type": "display_data"
    }
   ],
   "source": [
    "# - split sex\n",
    "print('５．数学・算数は好きですか', '<性別>')\n",
    "tmp = pd.concat([cnt2per(df, df['sex']=='男性', 'like').rename('male'),\n",
    "                 cnt2per(df, df['sex']=='女性', 'like').rename('female')], sort=True, axis=1)\n",
    "sns.heatmap(tmp.T, annot=True, square=True, cmap='Reds')"
   ]
  },
  {
   "cell_type": "code",
   "execution_count": 38,
   "metadata": {},
   "outputs": [
    {
     "name": "stdout",
     "output_type": "stream",
     "text": [
      "５．数学・算数は好きですか <性別, 年齢別>\n"
     ]
    },
    {
     "data": {
      "text/plain": [
       "<matplotlib.axes._subplots.AxesSubplot at 0x1a25f967b8>"
      ]
     },
     "execution_count": 38,
     "metadata": {},
     "output_type": "execute_result"
    },
    {
     "data": {
      "image/png": "[encoded data removed]",
      "text/plain": [
       "<Figure size 576x432 with 3 Axes>"
      ]
     },
     "metadata": {
      "needs_background": "light"
     },
     "output_type": "display_data"
    }
   ],
   "source": [
    "# - split age & sex\n",
    "print('５．数学・算数は好きですか', '<性別, 年齢別>')\n",
    "\n",
    "tmp_all = pd.DataFrame(index=like_order)\n",
    "for age, i in zip(age_order, age_int_order):\n",
    "    tmp = cnt2per(df.query(\"sex!='その他'\"),\n",
    "                  df.query(\"sex!='その他'\")['age']==age, 'like').rename(i)\n",
    "    tmp_all = tmp_all.join(tmp)\n",
    "\n",
    "tmp_male = pd.DataFrame(index=like_order)\n",
    "for age, i in zip(age_order, age_int_order):\n",
    "    tmp = cnt2per(df.query(\"sex=='男性'\"),\n",
    "                  df.query(\"sex=='男性'\")['age']==age, 'like').rename(i)\n",
    "    tmp_male = tmp_male.join(tmp)\n",
    "    \n",
    "tmp_female = pd.DataFrame(index=like_order)\n",
    "for age, i in zip(age_order, age_int_order):\n",
    "    tmp = cnt2per(df.query(\"sex=='女性'\"),\n",
    "                  df.query(\"sex=='女性'\")['age']==age, 'like').rename(i)\n",
    "    tmp_female = tmp_female.join(tmp)\n",
    "\n",
    "fig, axes = plt.subplots(nrows=1, ncols=3, figsize=(8, 6))\n",
    "axes[0].set(title='male & female')\n",
    "sns.heatmap(tmp_all.T.fillna(0), cmap='Reds', annot=True, square=True, cbar=False, ax=axes[0])\n",
    "axes[1].set(title='male')\n",
    "sns.heatmap(tmp_male.T.fillna(0), cmap='Reds', annot=True, square=True, cbar=False, yticklabels=False, ax=axes[1])\n",
    "axes[2].set(title='female')\n",
    "sns.heatmap(tmp_female.T.fillna(0), cmap='Reds', annot=True, square=True, cbar=False, yticklabels=False, ax=axes[2])"
   ]
  },
  {
   "cell_type": "code",
   "execution_count": 39,
   "metadata": {},
   "outputs": [
    {
     "name": "stdout",
     "output_type": "stream",
     "text": [
      "５．数学・算数は好きですか <職種別>\n"
     ]
    },
    {
     "data": {
      "text/plain": [
       "<matplotlib.axes._subplots.AxesSubplot at 0x1a25ca2550>"
      ]
     },
     "execution_count": 39,
     "metadata": {},
     "output_type": "execute_result"
    },
    {
     "data": {
      "image/png": "[encoded data removed]",
      "text/plain": [
       "<Figure size 1440x360 with 2 Axes>"
      ]
     },
     "metadata": {
      "needs_background": "light"
     },
     "output_type": "display_data"
    }
   ],
   "source": [
    "# - split job\n",
    "print('５．数学・算数は好きですか', '<職種別>')\n",
    "tmp = pd.concat([cnt2per(df, df['profession']==job, 'like').rename(job).sort_index()\\\n",
    "                for job in df['profession'].value_counts()[:4].index],\n",
    "               sort=True, axis=1)\n",
    "sns.heatmap(tmp.T, annot=True, square=True, cmap='Reds')"
   ]
  },
  {
   "cell_type": "code",
   "execution_count": 40,
   "metadata": {},
   "outputs": [
    {
     "data": {
      "text/plain": [
       "<matplotlib.axes._subplots.AxesSubplot at 0x1a273f13c8>"
      ]
     },
     "metadata": {},
     "output_type": "display_data"
    },
    {
     "data": {
      "text/html": [
       "<div>\n",
       "<style scoped>\n",
       "    .dataframe tbody tr th:only-of-type {\n",
       "        vertical-align: middle;\n",
       "    }\n",
       "\n",
       "    .dataframe tbody tr th {\n",
       "        vertical-align: top;\n",
       "    }\n",
       "\n",
       "    .dataframe thead th {\n",
       "        text-align: right;\n",
       "    }\n",
       "</style>\n",
       "<table border=\"1\" class=\"dataframe\">\n",
       "  <thead>\n",
       "    <tr style=\"text-align: right;\">\n",
       "      <th></th>\n",
       "      <th>count</th>\n",
       "      <th>mean</th>\n",
       "      <th>std</th>\n",
       "      <th>min</th>\n",
       "      <th>25%</th>\n",
       "      <th>50%</th>\n",
       "      <th>75%</th>\n",
       "      <th>max</th>\n",
       "    </tr>\n",
       "    <tr>\n",
       "      <th>like</th>\n",
       "      <th></th>\n",
       "      <th></th>\n",
       "      <th></th>\n",
       "      <th></th>\n",
       "      <th></th>\n",
       "      <th></th>\n",
       "      <th></th>\n",
       "      <th></th>\n",
       "    </tr>\n",
       "  </thead>\n",
       "  <tbody>\n",
       "    <tr>\n",
       "      <th>かなり好き</th>\n",
       "      <td>159.0</td>\n",
       "      <td>10.006289</td>\n",
       "      <td>10.585694</td>\n",
       "      <td>0.0</td>\n",
       "      <td>3.0</td>\n",
       "      <td>6.0</td>\n",
       "      <td>11.0</td>\n",
       "      <td>31.0</td>\n",
       "    </tr>\n",
       "    <tr>\n",
       "      <th>かなり嫌い</th>\n",
       "      <td>30.0</td>\n",
       "      <td>1.400000</td>\n",
       "      <td>5.611564</td>\n",
       "      <td>0.0</td>\n",
       "      <td>0.0</td>\n",
       "      <td>0.0</td>\n",
       "      <td>1.0</td>\n",
       "      <td>31.0</td>\n",
       "    </tr>\n",
       "    <tr>\n",
       "      <th>まあまあ好き</th>\n",
       "      <td>174.0</td>\n",
       "      <td>4.045977</td>\n",
       "      <td>6.509944</td>\n",
       "      <td>0.0</td>\n",
       "      <td>1.0</td>\n",
       "      <td>1.0</td>\n",
       "      <td>6.0</td>\n",
       "      <td>31.0</td>\n",
       "    </tr>\n",
       "    <tr>\n",
       "      <th>まあまあ嫌い</th>\n",
       "      <td>52.0</td>\n",
       "      <td>2.076923</td>\n",
       "      <td>4.841998</td>\n",
       "      <td>0.0</td>\n",
       "      <td>0.0</td>\n",
       "      <td>0.0</td>\n",
       "      <td>3.0</td>\n",
       "      <td>31.0</td>\n",
       "    </tr>\n",
       "  </tbody>\n",
       "</table>\n",
       "</div>"
      ],
      "text/plain": [
       "        count       mean        std  min  25%  50%   75%   max\n",
       "like                                                          \n",
       "かなり好き   159.0  10.006289  10.585694  0.0  3.0  6.0  11.0  31.0\n",
       "かなり嫌い    30.0   1.400000   5.611564  0.0  0.0  0.0   1.0  31.0\n",
       "まあまあ好き  174.0   4.045977   6.509944  0.0  1.0  1.0   6.0  31.0\n",
       "まあまあ嫌い   52.0   2.076923   4.841998  0.0  0.0  0.0   3.0  31.0"
      ]
     },
     "metadata": {},
     "output_type": "display_data"
    },
    {
     "data": {
      "image/png": "[encoded data removed]",
      "text/plain": [
       "<Figure size 1440x360 with 1 Axes>"
      ]
     },
     "metadata": {
      "needs_background": "light"
     },
     "output_type": "display_data"
    }
   ],
   "source": [
    "# - split read books count\n",
    "display(sns.countplot(x=\"read books count\", data=df, order=book_order))\n",
    "display(df.groupby(['like'])['min_read_books_count'].describe())"
   ]
  },
  {
   "cell_type": "code",
   "execution_count": 41,
   "metadata": {},
   "outputs": [
    {
     "name": "stdout",
     "output_type": "stream",
     "text": [
      "めっちゃ参考書読んでるけど嫌いなやつ\n"
     ]
    },
    {
     "data": {
      "text/html": [
       "<div>\n",
       "<style scoped>\n",
       "    .dataframe tbody tr th:only-of-type {\n",
       "        vertical-align: middle;\n",
       "    }\n",
       "\n",
       "    .dataframe tbody tr th {\n",
       "        vertical-align: top;\n",
       "    }\n",
       "\n",
       "    .dataframe thead th {\n",
       "        text-align: right;\n",
       "    }\n",
       "</style>\n",
       "<table border=\"1\" class=\"dataframe\">\n",
       "  <thead>\n",
       "    <tr style=\"text-align: right;\">\n",
       "      <th></th>\n",
       "      <th>sex</th>\n",
       "      <th>age</th>\n",
       "      <th>like</th>\n",
       "      <th>read books count</th>\n",
       "      <th>when do you dislike</th>\n",
       "      <th>what started you like or dislike</th>\n",
       "    </tr>\n",
       "  </thead>\n",
       "  <tbody>\n",
       "    <tr>\n",
       "      <th>10</th>\n",
       "      <td>女性</td>\n",
       "      <td>45歳～49歳</td>\n",
       "      <td>まあまあ嫌い</td>\n",
       "      <td>３１冊～</td>\n",
       "      <td>2_中学生前半</td>\n",
       "      <td>物心がついたときから・気が付いたら</td>\n",
       "    </tr>\n",
       "    <tr>\n",
       "      <th>226</th>\n",
       "      <td>男性</td>\n",
       "      <td>20歳～24歳</td>\n",
       "      <td>かなり嫌い</td>\n",
       "      <td>３１冊～</td>\n",
       "      <td>6_高校卒業後の進学先で（大学・専門学校など）</td>\n",
       "      <td>学校の授業がきっかけ</td>\n",
       "    </tr>\n",
       "  </tbody>\n",
       "</table>\n",
       "</div>"
      ],
      "text/plain": [
       "    sex      age    like read books count      when do you dislike  \\\n",
       "10   女性  45歳～49歳  まあまあ嫌い             ３１冊～                  2_中学生前半   \n",
       "226  男性  20歳～24歳   かなり嫌い             ３１冊～  6_高校卒業後の進学先で（大学・専門学校など）   \n",
       "\n",
       "    what started you like or dislike  \n",
       "10                 物心がついたときから・気が付いたら  \n",
       "226                       学校の授業がきっかけ  "
      ]
     },
     "execution_count": 41,
     "metadata": {},
     "output_type": "execute_result"
    }
   ],
   "source": [
    "print('めっちゃ参考書読んでるけど嫌いなやつ')\n",
    "df.query(\"(like=='かなり嫌い' | like=='まあまあ嫌い') & min_read_books_count==31\").loc[:,['sex','age','like',\n",
    "                                                                                           'read books count',\n",
    "                                                                                           'when do you dislike', \n",
    "                                                                                           'what started you like or dislike']]"
   ]
  },
  {
   "cell_type": "code",
   "execution_count": 42,
   "metadata": {},
   "outputs": [
    {
     "name": "stdout",
     "output_type": "stream",
     "text": [
      "参考書読んでないけど好きなやつ\n"
     ]
    },
    {
     "data": {
      "text/html": [
       "<div>\n",
       "<style scoped>\n",
       "    .dataframe tbody tr th:only-of-type {\n",
       "        vertical-align: middle;\n",
       "    }\n",
       "\n",
       "    .dataframe tbody tr th {\n",
       "        vertical-align: top;\n",
       "    }\n",
       "\n",
       "    .dataframe thead th {\n",
       "        text-align: right;\n",
       "    }\n",
       "</style>\n",
       "<table border=\"1\" class=\"dataframe\">\n",
       "  <thead>\n",
       "    <tr style=\"text-align: right;\">\n",
       "      <th></th>\n",
       "      <th>sex</th>\n",
       "      <th>age</th>\n",
       "      <th>like</th>\n",
       "      <th>read books count</th>\n",
       "      <th>when did you like</th>\n",
       "      <th>what started you like or dislike</th>\n",
       "    </tr>\n",
       "  </thead>\n",
       "  <tbody>\n",
       "    <tr>\n",
       "      <th>71</th>\n",
       "      <td>男性</td>\n",
       "      <td>30歳～34歳</td>\n",
       "      <td>かなり好き</td>\n",
       "      <td>０冊</td>\n",
       "      <td>1_小学校時代の算数の時から</td>\n",
       "      <td>問題を解くのが楽しかったから</td>\n",
       "    </tr>\n",
       "    <tr>\n",
       "      <th>79</th>\n",
       "      <td>男性</td>\n",
       "      <td>30歳～34歳</td>\n",
       "      <td>かなり好き</td>\n",
       "      <td>０冊</td>\n",
       "      <td>5_高校生後半</td>\n",
       "      <td>塾の先生がきっかけ</td>\n",
       "    </tr>\n",
       "    <tr>\n",
       "      <th>137</th>\n",
       "      <td>女性</td>\n",
       "      <td>30歳～34歳</td>\n",
       "      <td>かなり好き</td>\n",
       "      <td>０冊</td>\n",
       "      <td>1_小学校時代の算数の時から</td>\n",
       "      <td>物心がついたときから・気が付いたら</td>\n",
       "    </tr>\n",
       "    <tr>\n",
       "      <th>176</th>\n",
       "      <td>女性</td>\n",
       "      <td>15歳～19歳</td>\n",
       "      <td>かなり好き</td>\n",
       "      <td>０冊</td>\n",
       "      <td>4_高校生前半</td>\n",
       "      <td>学校の先生がきっかけ</td>\n",
       "    </tr>\n",
       "    <tr>\n",
       "      <th>198</th>\n",
       "      <td>女性</td>\n",
       "      <td>35歳～39歳</td>\n",
       "      <td>かなり好き</td>\n",
       "      <td>０冊</td>\n",
       "      <td>1_小学校時代の算数の時から</td>\n",
       "      <td>物心がついたときから・気が付いたら</td>\n",
       "    </tr>\n",
       "    <tr>\n",
       "      <th>238</th>\n",
       "      <td>男性</td>\n",
       "      <td>15歳～19歳</td>\n",
       "      <td>かなり好き</td>\n",
       "      <td>０冊</td>\n",
       "      <td>4_高校生前半</td>\n",
       "      <td>テストの点数など</td>\n",
       "    </tr>\n",
       "    <tr>\n",
       "      <th>268</th>\n",
       "      <td>男性</td>\n",
       "      <td>45歳～49歳</td>\n",
       "      <td>かなり好き</td>\n",
       "      <td>０冊</td>\n",
       "      <td>1_小学校時代の算数の時から</td>\n",
       "      <td>塾の授業がきっかけ</td>\n",
       "    </tr>\n",
       "    <tr>\n",
       "      <th>316</th>\n",
       "      <td>男性</td>\n",
       "      <td>15歳～19歳</td>\n",
       "      <td>かなり好き</td>\n",
       "      <td>０冊</td>\n",
       "      <td>0_小学校入学以前から</td>\n",
       "      <td>本や番組などがきっかけ</td>\n",
       "    </tr>\n",
       "    <tr>\n",
       "      <th>317</th>\n",
       "      <td>男性</td>\n",
       "      <td>15歳～19歳</td>\n",
       "      <td>かなり好き</td>\n",
       "      <td>０冊</td>\n",
       "      <td>2_中学生前半</td>\n",
       "      <td>物心がついたときから・気が付いたら</td>\n",
       "    </tr>\n",
       "    <tr>\n",
       "      <th>388</th>\n",
       "      <td>女性</td>\n",
       "      <td>35歳～39歳</td>\n",
       "      <td>かなり好き</td>\n",
       "      <td>０冊</td>\n",
       "      <td>1_小学校時代の算数の時から</td>\n",
       "      <td>物心がついたときから・気が付いたら</td>\n",
       "    </tr>\n",
       "    <tr>\n",
       "      <th>405</th>\n",
       "      <td>女性</td>\n",
       "      <td>25歳～29歳</td>\n",
       "      <td>かなり好き</td>\n",
       "      <td>０冊</td>\n",
       "      <td>3_中学生後半</td>\n",
       "      <td>親や兄弟がきっかけ</td>\n",
       "    </tr>\n",
       "  </tbody>\n",
       "</table>\n",
       "</div>"
      ],
      "text/plain": [
       "    sex      age   like read books count when did you like  \\\n",
       "71   男性  30歳～34歳  かなり好き               ０冊    1_小学校時代の算数の時から   \n",
       "79   男性  30歳～34歳  かなり好き               ０冊           5_高校生後半   \n",
       "137  女性  30歳～34歳  かなり好き               ０冊    1_小学校時代の算数の時から   \n",
       "176  女性  15歳～19歳  かなり好き               ０冊           4_高校生前半   \n",
       "198  女性  35歳～39歳  かなり好き               ０冊    1_小学校時代の算数の時から   \n",
       "238  男性  15歳～19歳  かなり好き               ０冊           4_高校生前半   \n",
       "268  男性  45歳～49歳  かなり好き               ０冊    1_小学校時代の算数の時から   \n",
       "316  男性  15歳～19歳  かなり好き               ０冊       0_小学校入学以前から   \n",
       "317  男性  15歳～19歳  かなり好き               ０冊           2_中学生前半   \n",
       "388  女性  35歳～39歳  かなり好き               ０冊    1_小学校時代の算数の時から   \n",
       "405  女性  25歳～29歳  かなり好き               ０冊           3_中学生後半   \n",
       "\n",
       "    what started you like or dislike  \n",
       "71                    問題を解くのが楽しかったから  \n",
       "79                         塾の先生がきっかけ  \n",
       "137                物心がついたときから・気が付いたら  \n",
       "176                       学校の先生がきっかけ  \n",
       "198                物心がついたときから・気が付いたら  \n",
       "238                         テストの点数など  \n",
       "268                        塾の授業がきっかけ  \n",
       "316                      本や番組などがきっかけ  \n",
       "317                物心がついたときから・気が付いたら  \n",
       "388                物心がついたときから・気が付いたら  \n",
       "405                        親や兄弟がきっかけ  "
      ]
     },
     "execution_count": 42,
     "metadata": {},
     "output_type": "execute_result"
    }
   ],
   "source": [
    "print('参考書読んでないけど好きなやつ')\n",
    "df.query(\"(like=='かなり好き') & min_read_books_count==0\").loc[:,['sex','age','like',\n",
    "                                                                   'read books count',\n",
    "                                                                   'when did you like', \n",
    "                                                                   'what started you like or dislike']]"
   ]
  },
  {
   "cell_type": "code",
   "execution_count": 43,
   "metadata": {},
   "outputs": [
    {
     "data": {
      "text/html": [
       "<div>\n",
       "<style scoped>\n",
       "    .dataframe tbody tr th:only-of-type {\n",
       "        vertical-align: middle;\n",
       "    }\n",
       "\n",
       "    .dataframe tbody tr th {\n",
       "        vertical-align: top;\n",
       "    }\n",
       "\n",
       "    .dataframe thead th {\n",
       "        text-align: right;\n",
       "    }\n",
       "</style>\n",
       "<table border=\"1\" class=\"dataframe\">\n",
       "  <thead>\n",
       "    <tr style=\"text-align: right;\">\n",
       "      <th></th>\n",
       "      <th>count</th>\n",
       "      <th>mean</th>\n",
       "      <th>std</th>\n",
       "      <th>min</th>\n",
       "      <th>25%</th>\n",
       "      <th>50%</th>\n",
       "      <th>75%</th>\n",
       "      <th>max</th>\n",
       "    </tr>\n",
       "    <tr>\n",
       "      <th>like</th>\n",
       "      <th></th>\n",
       "      <th></th>\n",
       "      <th></th>\n",
       "      <th></th>\n",
       "      <th></th>\n",
       "      <th></th>\n",
       "      <th></th>\n",
       "      <th></th>\n",
       "    </tr>\n",
       "  </thead>\n",
       "  <tbody>\n",
       "    <tr>\n",
       "      <th>かなり好き</th>\n",
       "      <td>148.0</td>\n",
       "      <td>6.109855</td>\n",
       "      <td>7.382166</td>\n",
       "      <td>0.451613</td>\n",
       "      <td>1.612903</td>\n",
       "      <td>3.181818</td>\n",
       "      <td>6.666667</td>\n",
       "      <td>40.0</td>\n",
       "    </tr>\n",
       "    <tr>\n",
       "      <th>かなり嫌い</th>\n",
       "      <td>12.0</td>\n",
       "      <td>28.387097</td>\n",
       "      <td>14.710816</td>\n",
       "      <td>0.645161</td>\n",
       "      <td>15.000000</td>\n",
       "      <td>32.500000</td>\n",
       "      <td>40.000000</td>\n",
       "      <td>45.0</td>\n",
       "    </tr>\n",
       "    <tr>\n",
       "      <th>まあまあ好き</th>\n",
       "      <td>142.0</td>\n",
       "      <td>13.450601</td>\n",
       "      <td>11.328806</td>\n",
       "      <td>0.645161</td>\n",
       "      <td>5.000000</td>\n",
       "      <td>10.000000</td>\n",
       "      <td>20.000000</td>\n",
       "      <td>55.0</td>\n",
       "    </tr>\n",
       "    <tr>\n",
       "      <th>まあまあ嫌い</th>\n",
       "      <td>24.0</td>\n",
       "      <td>16.449373</td>\n",
       "      <td>13.610618</td>\n",
       "      <td>1.363636</td>\n",
       "      <td>7.291667</td>\n",
       "      <td>13.333333</td>\n",
       "      <td>20.000000</td>\n",
       "      <td>50.0</td>\n",
       "    </tr>\n",
       "  </tbody>\n",
       "</table>\n",
       "</div>"
      ],
      "text/plain": [
       "        count       mean        std       min        25%        50%  \\\n",
       "like                                                                  \n",
       "かなり好き   148.0   6.109855   7.382166  0.451613   1.612903   3.181818   \n",
       "かなり嫌い    12.0  28.387097  14.710816  0.645161  15.000000  32.500000   \n",
       "まあまあ好き  142.0  13.450601  11.328806  0.645161   5.000000  10.000000   \n",
       "まあまあ嫌い   24.0  16.449373  13.610618  1.363636   7.291667  13.333333   \n",
       "\n",
       "              75%   max  \n",
       "like                     \n",
       "かなり好き    6.666667  40.0  \n",
       "かなり嫌い   40.000000  45.0  \n",
       "まあまあ好き  20.000000  55.0  \n",
       "まあまあ嫌い  20.000000  50.0  "
      ]
     },
     "execution_count": 43,
     "metadata": {},
     "output_type": "execute_result"
    }
   ],
   "source": [
    "# - 回答した時点での年齢で割った読んだ数をlikeでグループ化した統計\n",
    "df.groupby(['like'])['age_div_read_books_count'].describe()"
   ]
  },
  {
   "cell_type": "code",
   "execution_count": 44,
   "metadata": {},
   "outputs": [
    {
     "data": {
      "text/plain": [
       "<matplotlib.axes._subplots.AxesSubplot at 0x1a2765c828>"
      ]
     },
     "execution_count": 44,
     "metadata": {},
     "output_type": "execute_result"
    },
    {
     "data": {
      "image/png": "[encoded data removed]",
      "text/plain": [
       "<Figure size 576x432 with 3 Axes>"
      ]
     },
     "metadata": {
      "needs_background": "light"
     },
     "output_type": "display_data"
    }
   ],
   "source": [
    "# - split 時期 & sex\n",
    "tmp = pd.concat([df.loc[:,['like', 'when did you like']].dropna().rename(columns={'when did you like':'when'}),\n",
    "                 df.loc[:,['like', 'when do you dislike']].dropna().rename(columns={'when do you dislike':'when'})])\n",
    "tmp = pd.concat([tmp[tmp['when']==i]['like'].value_counts().rename(i).sort_index() for i in tmp.when.unique()[::-1]], sort=True, axis=1)\n",
    "tmp_all = tmp.fillna(0)\n",
    "\n",
    "tmp = pd.concat([df.query(\"sex=='男性'\").loc[:,['like', 'when did you like']].dropna().rename(columns={'when did you like':'when'}),\n",
    "           df.query(\"sex=='男性'\").loc[:,['like', 'when do you dislike']].dropna().rename(columns={'when do you dislike':'when'})])\n",
    "tmp = pd.concat([tmp[tmp['when']==i]['like'].value_counts().rename(i).sort_index() for i in tmp.when.unique()[::-1]], sort=True, axis=1)\n",
    "tmp_male = tmp.fillna(0)\n",
    "\n",
    "tmp = pd.concat([df.query(\"sex=='女性'\").loc[:,['like', 'when did you like']].dropna().rename(columns={'when did you like':'when'}),\n",
    "           df.query(\"sex=='女性'\").loc[:,['like', 'when do you dislike']].dropna().rename(columns={'when do you dislike':'when'})])\n",
    "tmp = pd.concat([tmp[tmp['when']==i]['like'].value_counts().rename(i).sort_index() for i in tmp.when.unique()[::-1]], sort=True, axis=1)\n",
    "tmp_female = tmp.fillna(0)\n",
    "\n",
    "fig, axes = plt.subplots(nrows=1, ncols=3, figsize=(8, 6))\n",
    "axes[0].set(title='male & female')\n",
    "sns.heatmap(tmp_all.T.sort_index(axis=0), cmap='Reds', annot=True, square=True, cbar=False, ax=axes[0])\n",
    "axes[1].set(title='male')\n",
    "sns.heatmap(tmp_male.T.sort_index(axis=0), cmap='Reds', annot=True, square=True, cbar=False, yticklabels=False, ax=axes[1])\n",
    "axes[2].set(title='female')\n",
    "sns.heatmap(tmp_female.T.sort_index(axis=0), cmap='Reds', annot=True, square=True, cbar=False, yticklabels=False, ax=axes[2])"
   ]
  },
  {
   "cell_type": "code",
   "execution_count": 45,
   "metadata": {},
   "outputs": [
    {
     "name": "stdout",
     "output_type": "stream",
     "text": [
      "好きor嫌いになったタイミング 件数\n"
     ]
    },
    {
     "data": {
      "text/plain": [
       "<matplotlib.axes._subplots.AxesSubplot at 0x1a2784cef0>"
      ]
     },
     "metadata": {},
     "output_type": "display_data"
    },
    {
     "data": {
      "image/png": "[encoded data removed]",
      "text/plain": [
       "<Figure size 1440x360 with 1 Axes>"
      ]
     },
     "metadata": {
      "needs_background": "light"
     },
     "output_type": "display_data"
    }
   ],
   "source": [
    "def getWhenCnt(df, group, target):\n",
    "    df = df.groupby(group).count().reset_index()\\\n",
    "            .loc[:, group+[target]]\\\n",
    "            .rename(columns={target: 'count'})\n",
    "    return df\n",
    "\n",
    "tmp = pd.concat([getWhenCnt(df.query(\"like=='かなり好き' | like=='まあまあ好き'\"),\n",
    "                    ['when did you like', 'like'],\n",
    "                    'sex').rename(columns={'when did you like': 'when'}),\n",
    "                 getWhenCnt(df.query(\"like=='かなり嫌い' | like=='まあまあ嫌い'\"),\n",
    "                    ['when do you dislike', 'like'],\n",
    "                    'sex').rename(columns={'when do you dislike': 'when'})]\n",
    "                ).sort_values([\"when\"])\n",
    "print('好きor嫌いになったタイミング 件数')\n",
    "display(sns.lineplot(x=\"when\", y=\"count\", sort=False, hue=\"like\", data=tmp))"
   ]
  },
  {
   "cell_type": "code",
   "execution_count": 46,
   "metadata": {},
   "outputs": [
    {
     "name": "stdout",
     "output_type": "stream",
     "text": [
      "好きor嫌いになったタイミング 割合\n"
     ]
    },
    {
     "data": {
      "text/plain": [
       "<matplotlib.axes._subplots.AxesSubplot at 0x1a279d20f0>"
      ]
     },
     "execution_count": 46,
     "metadata": {},
     "output_type": "execute_result"
    },
    {
     "data": {
      "image/png": "[encoded data removed]",
      "text/plain": [
       "<Figure size 1440x360 with 1 Axes>"
      ]
     },
     "metadata": {
      "needs_background": "light"
     },
     "output_type": "display_data"
    }
   ],
   "source": [
    "print('好きor嫌いになったタイミング 割合')\n",
    "tmp = pd.merge(tmp, pd.DataFrame(tmp.groupby('when')['count'].sum().rename('sum')), on='when')\n",
    "tmp['count/sum'] = tmp['count']/ tmp['sum']\n",
    "sns.lineplot(x=\"when\", y=\"count/sum\", sort=False, hue=\"like\", data=tmp)"
   ]
  },
  {
   "cell_type": "code",
   "execution_count": 47,
   "metadata": {},
   "outputs": [],
   "source": [
    "# cnt = np.hstack([df['when did you like'].value_counts().sort_index().values, \n",
    "#                  df['when do you dislike'].value_counts().sort_index().values])\n",
    "# opportunity = np.array(list(df['when did you like'].value_counts().sort_index().index) +\\\n",
    "#                        list(df['when do you dislike'].value_counts().sort_index().index))\n",
    "# like = np.array(['like' for _ in range(8)] + ['dislike' for _ in range(8)])\n",
    "\n",
    "# tmp_df = pd.DataFrame(np.vstack([opportunity, like, cnt])).T\n",
    "# tmp_df.columns = ['opportunity', 'like', 'count']\n",
    "# tmp_df= tmp_df.astype({'count':'int64'})\n",
    "# tmp_df = tmp_df.sort_values('opportunity')\n",
    "# sns.lineplot(x=\"opportunity\", y=\"count\",sort=False, hue=\"like\", data=tmp_df)"
   ]
  },
  {
   "cell_type": "code",
   "execution_count": 48,
   "metadata": {},
   "outputs": [
    {
     "data": {
      "text/html": [
       "<div>\n",
       "<style scoped>\n",
       "    .dataframe tbody tr th:only-of-type {\n",
       "        vertical-align: middle;\n",
       "    }\n",
       "\n",
       "    .dataframe tbody tr th {\n",
       "        vertical-align: top;\n",
       "    }\n",
       "\n",
       "    .dataframe thead th {\n",
       "        text-align: right;\n",
       "    }\n",
       "</style>\n",
       "<table border=\"1\" class=\"dataframe\">\n",
       "  <thead>\n",
       "    <tr style=\"text-align: right;\">\n",
       "      <th></th>\n",
       "      <th>most fun</th>\n",
       "    </tr>\n",
       "  </thead>\n",
       "  <tbody>\n",
       "    <tr>\n",
       "      <th>微分・積分</th>\n",
       "      <td>73</td>\n",
       "    </tr>\n",
       "    <tr>\n",
       "      <th>確率・組み合わせ</th>\n",
       "      <td>56</td>\n",
       "    </tr>\n",
       "    <tr>\n",
       "      <th>特にない</th>\n",
       "      <td>49</td>\n",
       "    </tr>\n",
       "    <tr>\n",
       "      <th>平面幾何</th>\n",
       "      <td>38</td>\n",
       "    </tr>\n",
       "    <tr>\n",
       "      <th>方程式・不等式</th>\n",
       "      <td>32</td>\n",
       "    </tr>\n",
       "    <tr>\n",
       "      <th>関数</th>\n",
       "      <td>31</td>\n",
       "    </tr>\n",
       "    <tr>\n",
       "      <th>計算問題</th>\n",
       "      <td>29</td>\n",
       "    </tr>\n",
       "    <tr>\n",
       "      <th>集合・論理</th>\n",
       "      <td>25</td>\n",
       "    </tr>\n",
       "    <tr>\n",
       "      <th>数列</th>\n",
       "      <td>23</td>\n",
       "    </tr>\n",
       "    <tr>\n",
       "      <th>三角比・三角関数</th>\n",
       "      <td>18</td>\n",
       "    </tr>\n",
       "  </tbody>\n",
       "</table>\n",
       "</div>"
      ],
      "text/plain": [
       "          most fun\n",
       "微分・積分           73\n",
       "確率・組み合わせ        56\n",
       "特にない            49\n",
       "平面幾何            38\n",
       "方程式・不等式         32\n",
       "関数              31\n",
       "計算問題            29\n",
       "集合・論理           25\n",
       "数列              23\n",
       "三角比・三角関数        18"
      ]
     },
     "execution_count": 48,
     "metadata": {},
     "output_type": "execute_result"
    }
   ],
   "source": [
    "# -  mast fun all top10\n",
    "pd.DataFrame(df['most fun'].value_counts()[:10])"
   ]
  },
  {
   "cell_type": "code",
   "execution_count": 49,
   "metadata": {},
   "outputs": [
    {
     "data": {
      "text/html": [
       "<div>\n",
       "<style scoped>\n",
       "    .dataframe tbody tr th:only-of-type {\n",
       "        vertical-align: middle;\n",
       "    }\n",
       "\n",
       "    .dataframe tbody tr th {\n",
       "        vertical-align: top;\n",
       "    }\n",
       "\n",
       "    .dataframe thead th {\n",
       "        text-align: right;\n",
       "    }\n",
       "</style>\n",
       "<table border=\"1\" class=\"dataframe\">\n",
       "  <thead>\n",
       "    <tr style=\"text-align: right;\">\n",
       "      <th></th>\n",
       "      <th>most fun</th>\n",
       "    </tr>\n",
       "  </thead>\n",
       "  <tbody>\n",
       "    <tr>\n",
       "      <th>微分・積分</th>\n",
       "      <td>72</td>\n",
       "    </tr>\n",
       "    <tr>\n",
       "      <th>確率・組み合わせ</th>\n",
       "      <td>47</td>\n",
       "    </tr>\n",
       "    <tr>\n",
       "      <th>関数</th>\n",
       "      <td>29</td>\n",
       "    </tr>\n",
       "    <tr>\n",
       "      <th>平面幾何</th>\n",
       "      <td>29</td>\n",
       "    </tr>\n",
       "    <tr>\n",
       "      <th>方程式・不等式</th>\n",
       "      <td>24</td>\n",
       "    </tr>\n",
       "    <tr>\n",
       "      <th>数列</th>\n",
       "      <td>21</td>\n",
       "    </tr>\n",
       "    <tr>\n",
       "      <th>集合・論理</th>\n",
       "      <td>21</td>\n",
       "    </tr>\n",
       "    <tr>\n",
       "      <th>計算問題</th>\n",
       "      <td>20</td>\n",
       "    </tr>\n",
       "    <tr>\n",
       "      <th>特にない</th>\n",
       "      <td>18</td>\n",
       "    </tr>\n",
       "    <tr>\n",
       "      <th>三角比・三角関数</th>\n",
       "      <td>16</td>\n",
       "    </tr>\n",
       "  </tbody>\n",
       "</table>\n",
       "</div>"
      ],
      "text/plain": [
       "          most fun\n",
       "微分・積分           72\n",
       "確率・組み合わせ        47\n",
       "関数              29\n",
       "平面幾何            29\n",
       "方程式・不等式         24\n",
       "数列              21\n",
       "集合・論理           21\n",
       "計算問題            20\n",
       "特にない            18\n",
       "三角比・三角関数        16"
      ]
     },
     "execution_count": 49,
     "metadata": {},
     "output_type": "execute_result"
    }
   ],
   "source": [
    "# -  mast fun like top10\n",
    "pd.DataFrame(df.query(\"like=='かなり好き'|like=='まあまあ好き'\")['most fun'].value_counts()[:10])"
   ]
  },
  {
   "cell_type": "code",
   "execution_count": 32,
   "metadata": {},
   "outputs": [
    {
     "data": {
      "text/html": [
       "<div>\n",
       "<style scoped>\n",
       "    .dataframe tbody tr th:only-of-type {\n",
       "        vertical-align: middle;\n",
       "    }\n",
       "\n",
       "    .dataframe tbody tr th {\n",
       "        vertical-align: top;\n",
       "    }\n",
       "\n",
       "    .dataframe thead th {\n",
       "        text-align: right;\n",
       "    }\n",
       "</style>\n",
       "<table border=\"1\" class=\"dataframe\">\n",
       "  <thead>\n",
       "    <tr style=\"text-align: right;\">\n",
       "      <th></th>\n",
       "      <th>most fun</th>\n",
       "    </tr>\n",
       "  </thead>\n",
       "  <tbody>\n",
       "    <tr>\n",
       "      <th>特にない</th>\n",
       "      <td>31</td>\n",
       "    </tr>\n",
       "    <tr>\n",
       "      <th>確率・組み合わせ</th>\n",
       "      <td>9</td>\n",
       "    </tr>\n",
       "    <tr>\n",
       "      <th>計算問題</th>\n",
       "      <td>9</td>\n",
       "    </tr>\n",
       "    <tr>\n",
       "      <th>平面幾何</th>\n",
       "      <td>9</td>\n",
       "    </tr>\n",
       "    <tr>\n",
       "      <th>方程式・不等式</th>\n",
       "      <td>8</td>\n",
       "    </tr>\n",
       "    <tr>\n",
       "      <th>集合・論理</th>\n",
       "      <td>4</td>\n",
       "    </tr>\n",
       "    <tr>\n",
       "      <th>ベクトル</th>\n",
       "      <td>2</td>\n",
       "    </tr>\n",
       "    <tr>\n",
       "      <th>関数</th>\n",
       "      <td>2</td>\n",
       "    </tr>\n",
       "    <tr>\n",
       "      <th>三角比・三角関数</th>\n",
       "      <td>2</td>\n",
       "    </tr>\n",
       "    <tr>\n",
       "      <th>数列</th>\n",
       "      <td>2</td>\n",
       "    </tr>\n",
       "  </tbody>\n",
       "</table>\n",
       "</div>"
      ],
      "text/plain": [
       "          most fun\n",
       "特にない            31\n",
       "確率・組み合わせ         9\n",
       "計算問題             9\n",
       "平面幾何             9\n",
       "方程式・不等式          8\n",
       "集合・論理            4\n",
       "ベクトル             2\n",
       "関数               2\n",
       "三角比・三角関数         2\n",
       "数列               2"
      ]
     },
     "execution_count": 32,
     "metadata": {},
     "output_type": "execute_result"
    }
   ],
   "source": [
    "# -  mast fun dislike top10\n",
    "pd.DataFrame(df.query(\"like=='かなり嫌い'|like=='まあまあ嫌い'\")['most fun'].value_counts()[:10])"
   ]
  },
  {
   "cell_type": "code",
   "execution_count": 33,
   "metadata": {},
   "outputs": [
    {
     "data": {
      "text/html": [
       "<div>\n",
       "<style scoped>\n",
       "    .dataframe tbody tr th:only-of-type {\n",
       "        vertical-align: middle;\n",
       "    }\n",
       "\n",
       "    .dataframe tbody tr th {\n",
       "        vertical-align: top;\n",
       "    }\n",
       "\n",
       "    .dataframe thead th {\n",
       "        text-align: right;\n",
       "    }\n",
       "</style>\n",
       "<table border=\"1\" class=\"dataframe\">\n",
       "  <thead>\n",
       "    <tr style=\"text-align: right;\">\n",
       "      <th></th>\n",
       "      <th>likes_fun</th>\n",
       "      <th>dislikes_fun</th>\n",
       "      <th>likes_difficult</th>\n",
       "      <th>dislikes_difficult</th>\n",
       "    </tr>\n",
       "  </thead>\n",
       "  <tbody>\n",
       "    <tr>\n",
       "      <th>微分・積分</th>\n",
       "      <td>72</td>\n",
       "      <td>1</td>\n",
       "      <td>43</td>\n",
       "      <td>15</td>\n",
       "    </tr>\n",
       "    <tr>\n",
       "      <th>確率・組み合わせ</th>\n",
       "      <td>47</td>\n",
       "      <td>9</td>\n",
       "      <td>54</td>\n",
       "      <td>13</td>\n",
       "    </tr>\n",
       "    <tr>\n",
       "      <th>平面幾何</th>\n",
       "      <td>29</td>\n",
       "      <td>9</td>\n",
       "      <td>53</td>\n",
       "      <td>6</td>\n",
       "    </tr>\n",
       "    <tr>\n",
       "      <th>関数</th>\n",
       "      <td>29</td>\n",
       "      <td>2</td>\n",
       "      <td>7</td>\n",
       "      <td>8</td>\n",
       "    </tr>\n",
       "    <tr>\n",
       "      <th>方程式・不等式</th>\n",
       "      <td>24</td>\n",
       "      <td>8</td>\n",
       "      <td>4</td>\n",
       "      <td>3</td>\n",
       "    </tr>\n",
       "    <tr>\n",
       "      <th>数列</th>\n",
       "      <td>21</td>\n",
       "      <td>2</td>\n",
       "      <td>20</td>\n",
       "      <td>3</td>\n",
       "    </tr>\n",
       "    <tr>\n",
       "      <th>集合・論理</th>\n",
       "      <td>21</td>\n",
       "      <td>4</td>\n",
       "      <td>22</td>\n",
       "      <td>2</td>\n",
       "    </tr>\n",
       "    <tr>\n",
       "      <th>計算問題</th>\n",
       "      <td>20</td>\n",
       "      <td>9</td>\n",
       "      <td>23</td>\n",
       "      <td>4</td>\n",
       "    </tr>\n",
       "    <tr>\n",
       "      <th>三角比・三角関数</th>\n",
       "      <td>16</td>\n",
       "      <td>2</td>\n",
       "      <td>8</td>\n",
       "      <td>10</td>\n",
       "    </tr>\n",
       "    <tr>\n",
       "      <th>ベクトル</th>\n",
       "      <td>8</td>\n",
       "      <td>2</td>\n",
       "      <td>35</td>\n",
       "      <td>3</td>\n",
       "    </tr>\n",
       "  </tbody>\n",
       "</table>\n",
       "</div>"
      ],
      "text/plain": [
       "          likes_fun  dislikes_fun  likes_difficult  dislikes_difficult\n",
       "微分・積分            72             1               43                  15\n",
       "確率・組み合わせ         47             9               54                  13\n",
       "平面幾何             29             9               53                   6\n",
       "関数               29             2                7                   8\n",
       "方程式・不等式          24             8                4                   3\n",
       "数列               21             2               20                   3\n",
       "集合・論理            21             4               22                   2\n",
       "計算問題             20             9               23                   4\n",
       "三角比・三角関数         16             2                8                  10\n",
       "ベクトル              8             2               35                   3"
      ]
     },
     "execution_count": 33,
     "metadata": {},
     "output_type": "execute_result"
    }
   ],
   "source": [
    "tmp = pd.DataFrame(index=units)\n",
    "tmp_likes_fun = df[df['most fun'].isin(units)].query(\"like=='かなり好き'|like=='まあまあ好き'\")['most fun'].value_counts().rename('likes_fun')\n",
    "tmp_dislikes_fun = df[df['most fun'].isin(units)].query(\"like=='かなり嫌い'|like=='まあまあ嫌い'\")['most fun'].value_counts().rename('dislikes_fun')\n",
    "tmp_likes_difficult = df[df['most difficult'].isin(units)].query(\"like=='かなり好き'|like=='まあまあ好き'\")['most difficult'].value_counts().rename('likes_difficult')\n",
    "tmp_dislikes_difficult = df[df['most difficult'].isin(units)].query(\"like=='かなり嫌い'|like=='まあまあ嫌い'\")['most difficult'].value_counts().rename('dislikes_difficult')\n",
    "for df_i in [tmp_likes_fun, tmp_dislikes_fun, tmp_likes_difficult, tmp_dislikes_difficult]:\n",
    "    tmp = pd.merge(tmp, pd.DataFrame(df_i), left_index=True, right_index=True, how='outer')\n",
    "    \n",
    "tmp.sort_values(['likes_fun'], ascending=False)"
   ]
  },
  {
   "cell_type": "code",
   "execution_count": 34,
   "metadata": {},
   "outputs": [
    {
     "name": "stdout",
     "output_type": "stream",
     "text": [
      "[]\n"
     ]
    }
   ],
   "source": [
    "# 例外\n",
    "exceptions = []\n",
    "exceptions += (list(df[(df['like']==3) | (df['like']==4)]['when do you dislike'].dropna().index))\n",
    "exceptions += (list(df[(df['like']==1) | (df['like']==2)]['when did you like'].dropna().index))\n",
    "exceptions += (list(df[df['learn again']=='まったく思わない']['how much do you want to learn'].dropna().index))\n",
    "\n",
    "print(exceptions)\n",
    "#ex\n",
    "# df[df.index==322] # like=4 AND 'when do you dislike'='社会人になってから'"
   ]
  },
  {
   "cell_type": "code",
   "execution_count": 54,
   "metadata": {},
   "outputs": [],
   "source": [
    "val_cnt = {}\n",
    "for col in df.columns:\n",
    "    val_cnt[col] = df[col].value_counts()"
   ]
  },
  {
   "cell_type": "code",
   "execution_count": 63,
   "metadata": {
    "scrolled": true
   },
   "outputs": [
    {
     "data": {
      "image/png": "[encoded data removed]",
      "text/plain": [
       "<Figure size 1440x360 with 1 Axes>"
      ]
     },
     "metadata": {
      "needs_background": "light"
     },
     "output_type": "display_data"
    }
   ],
   "source": [
    "ax = sns.violinplot(x=\"age\", y=\"like_num\", hue=\"sex\", hue_order= ['男性', '女性'],\n",
    "                    data=df[~(df['sex']=='その他')], palette=\"Set2\", split=True,\n",
    "                    scale=\"count\", inner=\"quartiles\", order=age_order)"
   ]
  },
  {
   "cell_type": "code",
   "execution_count": 65,
   "metadata": {},
   "outputs": [
    {
     "data": {
      "image/png": "[encoded data removed]",
      "text/plain": [
       "<Figure size 1440x360 with 1 Axes>"
      ]
     },
     "metadata": {
      "needs_background": "light"
     },
     "output_type": "display_data"
    }
   ],
   "source": [
    "ax = sns.violinplot(x=\"profession\", y=\"like_num\", hue=\"sex\", hue_order= ['男性', '女性'],\n",
    "                    data=df[~(df['sex']=='その他')], palette=\"Set2\", split=True,\n",
    "                    scale=\"count\", inner=\"quartiles\")"
   ]
  },
  {
   "cell_type": "code",
   "execution_count": 92,
   "metadata": {},
   "outputs": [
    {
     "name": "stdout",
     "output_type": "stream",
     "text": [
      "詳細な好きになったきっかけ\n"
     ]
    },
    {
     "data": {
      "text/html": [
       "<div>\n",
       "<style scoped>\n",
       "    .dataframe tbody tr th:only-of-type {\n",
       "        vertical-align: middle;\n",
       "    }\n",
       "\n",
       "    .dataframe tbody tr th {\n",
       "        vertical-align: top;\n",
       "    }\n",
       "\n",
       "    .dataframe thead th {\n",
       "        text-align: right;\n",
       "    }\n",
       "</style>\n",
       "<table border=\"1\" class=\"dataframe\">\n",
       "  <thead>\n",
       "    <tr style=\"text-align: right;\">\n",
       "      <th></th>\n",
       "      <th>count</th>\n",
       "    </tr>\n",
       "  </thead>\n",
       "  <tbody>\n",
       "    <tr>\n",
       "      <th>物心がついたときから・気が付いたら</th>\n",
       "      <td>117</td>\n",
       "    </tr>\n",
       "    <tr>\n",
       "      <th>学校の授業がきっかけ</th>\n",
       "      <td>41</td>\n",
       "    </tr>\n",
       "    <tr>\n",
       "      <th>本や番組などがきっかけ</th>\n",
       "      <td>36</td>\n",
       "    </tr>\n",
       "    <tr>\n",
       "      <th>テストの点数など</th>\n",
       "      <td>32</td>\n",
       "    </tr>\n",
       "    <tr>\n",
       "      <th>学校の先生がきっかけ</th>\n",
       "      <td>29</td>\n",
       "    </tr>\n",
       "  </tbody>\n",
       "</table>\n",
       "</div>"
      ],
      "text/plain": [
       "                   count\n",
       "物心がついたときから・気が付いたら    117\n",
       "学校の授業がきっかけ            41\n",
       "本や番組などがきっかけ           36\n",
       "テストの点数など              32\n",
       "学校の先生がきっかけ            29"
      ]
     },
     "metadata": {},
     "output_type": "display_data"
    },
    {
     "name": "stdout",
     "output_type": "stream",
     "text": [
      "詳細な嫌いになったきっかけ\n"
     ]
    },
    {
     "data": {
      "text/html": [
       "<div>\n",
       "<style scoped>\n",
       "    .dataframe tbody tr th:only-of-type {\n",
       "        vertical-align: middle;\n",
       "    }\n",
       "\n",
       "    .dataframe tbody tr th {\n",
       "        vertical-align: top;\n",
       "    }\n",
       "\n",
       "    .dataframe thead th {\n",
       "        text-align: right;\n",
       "    }\n",
       "</style>\n",
       "<table border=\"1\" class=\"dataframe\">\n",
       "  <thead>\n",
       "    <tr style=\"text-align: right;\">\n",
       "      <th></th>\n",
       "      <th>count</th>\n",
       "    </tr>\n",
       "  </thead>\n",
       "  <tbody>\n",
       "    <tr>\n",
       "      <th>学校の授業がきっかけ</th>\n",
       "      <td>38</td>\n",
       "    </tr>\n",
       "    <tr>\n",
       "      <th>テストの点数など</th>\n",
       "      <td>22</td>\n",
       "    </tr>\n",
       "    <tr>\n",
       "      <th>物心がついたときから・気が付いたら</th>\n",
       "      <td>10</td>\n",
       "    </tr>\n",
       "    <tr>\n",
       "      <th>学校の先生がきっかけ</th>\n",
       "      <td>3</td>\n",
       "    </tr>\n",
       "    <tr>\n",
       "      <th>親や兄弟がきっかけ</th>\n",
       "      <td>3</td>\n",
       "    </tr>\n",
       "  </tbody>\n",
       "</table>\n",
       "</div>"
      ],
      "text/plain": [
       "                   count\n",
       "学校の授業がきっかけ            38\n",
       "テストの点数など              22\n",
       "物心がついたときから・気が付いたら     10\n",
       "学校の先生がきっかけ             3\n",
       "親や兄弟がきっかけ              3"
      ]
     },
     "metadata": {},
     "output_type": "display_data"
    }
   ],
   "source": [
    "print('詳細な好きになったきっかけ')\n",
    "display(pd.DataFrame(df.loc[df['like_num'].isin([3,4])]['what started you like or dislike'].value_counts()[:5].rename('count')))\n",
    "print('詳細な嫌いになったきっかけ')\n",
    "display(pd.DataFrame(df.loc[df['like_num'].isin([1,2])]['what started you like or dislike'].value_counts()[:5].rename('count')))"
   ]
  },
  {
   "cell_type": "code",
   "execution_count": 90,
   "metadata": {},
   "outputs": [
    {
     "name": "stdout",
     "output_type": "stream",
     "text": [
      "詳細な好きになったきっかけ\n"
     ]
    },
    {
     "data": {
      "text/html": [
       "<div>\n",
       "<style scoped>\n",
       "    .dataframe tbody tr th:only-of-type {\n",
       "        vertical-align: middle;\n",
       "    }\n",
       "\n",
       "    .dataframe tbody tr th {\n",
       "        vertical-align: top;\n",
       "    }\n",
       "\n",
       "    .dataframe thead th {\n",
       "        text-align: right;\n",
       "    }\n",
       "</style>\n",
       "<table border=\"1\" class=\"dataframe\">\n",
       "  <thead>\n",
       "    <tr style=\"text-align: right;\">\n",
       "      <th></th>\n",
       "      <th>count</th>\n",
       "    </tr>\n",
       "  </thead>\n",
       "  <tbody>\n",
       "    <tr>\n",
       "      <th>小学校までは簡単すぎてつまらなかったが、中学生になり解の公式や因数分解などがおもしろくなり、さらに高校でレベルアップしておもしろくなった(数学は好きだが、すごく得意というわけではない)</th>\n",
       "      <td>1</td>\n",
       "    </tr>\n",
       "    <tr>\n",
       "      <th>そろばんを習ってある程度計算できるようになってから楽しくなりました。</th>\n",
       "      <td>1</td>\n",
       "    </tr>\n",
       "    <tr>\n",
       "      <th>小6の春休みに中学1年になるまで暇だなぁと思い数学の教科書に手を出し、わからないところは塾の先生に聞きながら進めて、理解するのできる感覚が楽しかったから。</th>\n",
       "      <td>1</td>\n",
       "    </tr>\n",
       "    <tr>\n",
       "      <th>理屈を考えるのが楽しかった</th>\n",
       "      <td>1</td>\n",
       "    </tr>\n",
       "    <tr>\n",
       "      <th>母親が公文式の教室を開いていて生徒と一緒に解いていた</th>\n",
       "      <td>1</td>\n",
       "    </tr>\n",
       "  </tbody>\n",
       "</table>\n",
       "</div>"
      ],
      "text/plain": [
       "                                                    count\n",
       "小学校までは簡単すぎてつまらなかったが、中学生になり解の公式や因数分解などがおもしろくなり、さ...      1\n",
       "そろばんを習ってある程度計算できるようになってから楽しくなりました。                      1\n",
       "小6の春休みに中学1年になるまで暇だなぁと思い数学の教科書に手を出し、わからないところは塾の先...      1\n",
       "理屈を考えるのが楽しかった                                           1\n",
       "母親が公文式の教室を開いていて生徒と一緒に解いていた                              1"
      ]
     },
     "metadata": {},
     "output_type": "display_data"
    },
    {
     "name": "stdout",
     "output_type": "stream",
     "text": [
      "詳細な嫌いになったきっかけ\n"
     ]
    },
    {
     "data": {
      "text/html": [
       "<div>\n",
       "<style scoped>\n",
       "    .dataframe tbody tr th:only-of-type {\n",
       "        vertical-align: middle;\n",
       "    }\n",
       "\n",
       "    .dataframe tbody tr th {\n",
       "        vertical-align: top;\n",
       "    }\n",
       "\n",
       "    .dataframe thead th {\n",
       "        text-align: right;\n",
       "    }\n",
       "</style>\n",
       "<table border=\"1\" class=\"dataframe\">\n",
       "  <thead>\n",
       "    <tr style=\"text-align: right;\">\n",
       "      <th></th>\n",
       "      <th>count</th>\n",
       "    </tr>\n",
       "  </thead>\n",
       "  <tbody>\n",
       "    <tr>\n",
       "      <th>小学校までは簡単すぎてつまらなかったが、中学生になり解の公式や因数分解などがおもしろくなり、さらに高校でレベルアップしておもしろくなった(数学は好きだが、すごく得意というわけではない)</th>\n",
       "      <td>1</td>\n",
       "    </tr>\n",
       "    <tr>\n",
       "      <th>そろばんを習ってある程度計算できるようになってから楽しくなりました。</th>\n",
       "      <td>1</td>\n",
       "    </tr>\n",
       "    <tr>\n",
       "      <th>小6の春休みに中学1年になるまで暇だなぁと思い数学の教科書に手を出し、わからないところは塾の先生に聞きながら進めて、理解するのできる感覚が楽しかったから。</th>\n",
       "      <td>1</td>\n",
       "    </tr>\n",
       "    <tr>\n",
       "      <th>理屈を考えるのが楽しかった</th>\n",
       "      <td>1</td>\n",
       "    </tr>\n",
       "    <tr>\n",
       "      <th>母親が公文式の教室を開いていて生徒と一緒に解いていた</th>\n",
       "      <td>1</td>\n",
       "    </tr>\n",
       "  </tbody>\n",
       "</table>\n",
       "</div>"
      ],
      "text/plain": [
       "                                                    count\n",
       "小学校までは簡単すぎてつまらなかったが、中学生になり解の公式や因数分解などがおもしろくなり、さ...      1\n",
       "そろばんを習ってある程度計算できるようになってから楽しくなりました。                      1\n",
       "小6の春休みに中学1年になるまで暇だなぁと思い数学の教科書に手を出し、わからないところは塾の先...      1\n",
       "理屈を考えるのが楽しかった                                           1\n",
       "母親が公文式の教室を開いていて生徒と一緒に解いていた                              1"
      ]
     },
     "metadata": {},
     "output_type": "display_data"
    }
   ],
   "source": [
    "print('詳細な好きになったきっかけ')\n",
    "display(pd.DataFrame(df.loc[df['like_num'].isin([3,4])]['how you became fond or dislike'].value_counts()[:5].rename('count')))\n",
    "\n",
    "print('詳細な嫌いになったきっかけ')\n",
    "display(pd.DataFrame(df.loc[df['like_num'].isin([3,4])]['how you became fond or dislike'].value_counts()[:5].rename('count')))"
   ]
  },
  {
   "cell_type": "code",
   "execution_count": 91,
   "metadata": {},
   "outputs": [
    {
     "name": "stdout",
     "output_type": "stream",
     "text": [
      "数学が好きな人の学習方法\n"
     ]
    },
    {
     "data": {
      "text/html": [
       "<div>\n",
       "<style scoped>\n",
       "    .dataframe tbody tr th:only-of-type {\n",
       "        vertical-align: middle;\n",
       "    }\n",
       "\n",
       "    .dataframe tbody tr th {\n",
       "        vertical-align: top;\n",
       "    }\n",
       "\n",
       "    .dataframe thead th {\n",
       "        text-align: right;\n",
       "    }\n",
       "</style>\n",
       "<table border=\"1\" class=\"dataframe\">\n",
       "  <thead>\n",
       "    <tr style=\"text-align: right;\">\n",
       "      <th></th>\n",
       "      <th>count</th>\n",
       "    </tr>\n",
       "  </thead>\n",
       "  <tbody>\n",
       "    <tr>\n",
       "      <th>授業を聞いて, 問題集を解いて</th>\n",
       "      <td>88</td>\n",
       "    </tr>\n",
       "    <tr>\n",
       "      <th>問題集を解いて</th>\n",
       "      <td>49</td>\n",
       "    </tr>\n",
       "    <tr>\n",
       "      <th>授業を聞いて, 問題集を解いて, 数学の本（教科書、参考書を除く）を読んで</th>\n",
       "      <td>44</td>\n",
       "    </tr>\n",
       "    <tr>\n",
       "      <th>授業を聞いて, 問題集を解いて, 数学の本（教科書、参考書を除く）を読んで, 人から個別に聞いて</th>\n",
       "      <td>25</td>\n",
       "    </tr>\n",
       "    <tr>\n",
       "      <th>授業を聞いて</th>\n",
       "      <td>22</td>\n",
       "    </tr>\n",
       "  </tbody>\n",
       "</table>\n",
       "</div>"
      ],
      "text/plain": [
       "                                                  count\n",
       "授業を聞いて, 問題集を解いて                                      88\n",
       "問題集を解いて                                              49\n",
       "授業を聞いて, 問題集を解いて, 数学の本（教科書、参考書を除く）を読んで                44\n",
       "授業を聞いて, 問題集を解いて, 数学の本（教科書、参考書を除く）を読んで, 人から個別に聞いて     25\n",
       "授業を聞いて                                               22"
      ]
     },
     "metadata": {},
     "output_type": "display_data"
    },
    {
     "name": "stdout",
     "output_type": "stream",
     "text": [
      "数学が嫌いな人の学習方法\n"
     ]
    },
    {
     "data": {
      "text/html": [
       "<div>\n",
       "<style scoped>\n",
       "    .dataframe tbody tr th:only-of-type {\n",
       "        vertical-align: middle;\n",
       "    }\n",
       "\n",
       "    .dataframe tbody tr th {\n",
       "        vertical-align: top;\n",
       "    }\n",
       "\n",
       "    .dataframe thead th {\n",
       "        text-align: right;\n",
       "    }\n",
       "</style>\n",
       "<table border=\"1\" class=\"dataframe\">\n",
       "  <thead>\n",
       "    <tr style=\"text-align: right;\">\n",
       "      <th></th>\n",
       "      <th>count</th>\n",
       "    </tr>\n",
       "  </thead>\n",
       "  <tbody>\n",
       "    <tr>\n",
       "      <th>授業を聞いて, 問題集を解いて</th>\n",
       "      <td>27</td>\n",
       "    </tr>\n",
       "    <tr>\n",
       "      <th>授業を聞いて</th>\n",
       "      <td>19</td>\n",
       "    </tr>\n",
       "    <tr>\n",
       "      <th>授業を聞いて, 問題集を解いて, 数学の本（教科書、参考書を除く）を読んで</th>\n",
       "      <td>9</td>\n",
       "    </tr>\n",
       "    <tr>\n",
       "      <th>授業を聞いて, 問題集を解いて, 人から個別に聞いて</th>\n",
       "      <td>8</td>\n",
       "    </tr>\n",
       "    <tr>\n",
       "      <th>授業を聞いて, 問題集を解いて, 数学の本（教科書、参考書を除く）を読んで, 人から個別に聞いて</th>\n",
       "      <td>4</td>\n",
       "    </tr>\n",
       "  </tbody>\n",
       "</table>\n",
       "</div>"
      ],
      "text/plain": [
       "                                                  count\n",
       "授業を聞いて, 問題集を解いて                                      27\n",
       "授業を聞いて                                               19\n",
       "授業を聞いて, 問題集を解いて, 数学の本（教科書、参考書を除く）を読んで                 9\n",
       "授業を聞いて, 問題集を解いて, 人から個別に聞いて                            8\n",
       "授業を聞いて, 問題集を解いて, 数学の本（教科書、参考書を除く）を読んで, 人から個別に聞いて      4"
      ]
     },
     "metadata": {},
     "output_type": "display_data"
    }
   ],
   "source": [
    "# study                               １６．主に、どのような方法で数学を勉強していましたか。\n",
    "print('数学が好きな人の学習方法')\n",
    "display(pd.DataFrame(df.loc[df['like_num'].isin([3,4])]['study'].value_counts()[:5].rename('count')))\n",
    "\n",
    "print('数学が嫌いな人の学習方法')\n",
    "display(pd.DataFrame(df.loc[df['like_num'].isin([1,2])]['study'].value_counts()[:5].rename('count')))"
   ]
  },
  {
   "cell_type": "code",
   "execution_count": null,
   "metadata": {},
   "outputs": [],
   "source": []
  }
 ],
 "metadata": {
  "kernelspec": {
   "display_name": "Python 3",
   "language": "python",
   "name": "python3"
  },
  "language_info": {
   "codemirror_mode": {
    "name": "ipython",
    "version": 3
   },
   "file_extension": ".py",
   "mimetype": "text/x-python",
   "name": "python",
   "nbconvert_exporter": "python",
   "pygments_lexer": "ipython3",
   "version": "3.6.7"
  }
 },
 "nbformat": 4,
 "nbformat_minor": 2
}
